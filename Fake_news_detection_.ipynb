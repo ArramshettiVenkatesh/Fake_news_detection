{
  "nbformat": 4,
  "nbformat_minor": 0,
  "metadata": {
    "kernelspec": {
      "display_name": "Python 3",
      "language": "python",
      "name": "python3"
    },
    "language_info": {
      "codemirror_mode": {
        "name": "ipython",
        "version": 3
      },
      "file_extension": ".py",
      "mimetype": "text/x-python",
      "name": "python",
      "nbconvert_exporter": "python",
      "pygments_lexer": "ipython3",
      "version": "3.7.9"
    },
    "papermill": {
      "default_parameters": {},
      "duration": 1079.99402,
      "end_time": "2021-02-25T12:34:29.008348",
      "environment_variables": {},
      "exception": null,
      "input_path": "__notebook__.ipynb",
      "output_path": "__notebook__.ipynb",
      "parameters": {},
      "start_time": "2021-02-25T12:16:29.014328",
      "version": "2.2.2"
    },
    "colab": {
      "name": "Fake news detection .ipynb",
      "provenance": [],
      "toc_visible": true
    }
  },
  "cells": [
    {
      "cell_type": "markdown",
      "metadata": {
        "papermill": {
          "duration": 0.040141,
          "end_time": "2021-02-25T12:16:34.823692",
          "exception": false,
          "start_time": "2021-02-25T12:16:34.783551",
          "status": "completed"
        },
        "tags": [],
        "id": "aDznnwa6tTru"
      },
      "source": [
        "# What you will Learn\n",
        "NLP is one of the most important areas of data science. This notebook focuses on the detection of `Fake News`. Most people tend to use deep learning approaches based on word embeddings, word sequences and other elaborate methods to detect them. In this notebook you will learn, that you can already achieve extremely good results by focusing on easily extracted features. Even though these methods are far from perfect, they are easy to perform and they allow us to get some valuable insights into the structure of Fake News."
      ]
    },
    {
      "cell_type": "markdown",
      "metadata": {
        "papermill": {
          "duration": 0.038031,
          "end_time": "2021-02-25T12:16:34.899006",
          "exception": false,
          "start_time": "2021-02-25T12:16:34.860975",
          "status": "completed"
        },
        "tags": [],
        "id": "CfwOHYlutTr5"
      },
      "source": [
        "<div class=\"alert alert-danger\" role=\"alert\">\n",
        "    <h3>This notebook is work in progress. Feel free to <span style=\"color:red\">comment</span> if you have any suggestions   |   motivate me with an <span style=\"color:red\">upvote</span> if you like this project.</h3>\n",
        "</div>"
      ]
    },
    {
      "cell_type": "code",
      "metadata": {
        "_cell_guid": "b1076dfc-b9ad-4769-8c92-a6c4dae69d19",
        "_kg_hide-input": true,
        "_uuid": "8f2839f25d086af736a60e9eeb907d3b93b6e0e5",
        "execution": {
          "iopub.execute_input": "2021-02-25T12:16:34.980324Z",
          "iopub.status.busy": "2021-02-25T12:16:34.979574Z",
          "iopub.status.idle": "2021-02-25T12:16:36.609828Z",
          "shell.execute_reply": "2021-02-25T12:16:36.609006Z"
        },
        "papermill": {
          "duration": 1.673105,
          "end_time": "2021-02-25T12:16:36.610035",
          "exception": false,
          "start_time": "2021-02-25T12:16:34.936930",
          "status": "completed"
        },
        "tags": [],
        "id": "udLSOLhHtTr6"
      },
      "source": [
        "import numpy as np\n",
        "import pandas as pd\n",
        "import matplotlib.pyplot as plt\n",
        "from nltk.tokenize import word_tokenize\n",
        "from wordcloud import STOPWORDS\n",
        "import nltk\n",
        "import string"
      ],
      "execution_count": 1,
      "outputs": []
    },
    {
      "cell_type": "markdown",
      "metadata": {
        "papermill": {
          "duration": 0.036466,
          "end_time": "2021-02-25T12:16:36.683590",
          "exception": false,
          "start_time": "2021-02-25T12:16:36.647124",
          "status": "completed"
        },
        "tags": [],
        "id": "XE3d_2eMtTr7"
      },
      "source": [
        "# Get an overview of both CSVs and merge them together!\n",
        "The data is provided in two separated csv files. One file contains real articles, the other file contains fake news. Let's get an idea of both files."
      ]
    },
    {
      "cell_type": "code",
      "metadata": {
        "execution": {
          "iopub.execute_input": "2021-02-25T12:16:36.767465Z",
          "iopub.status.busy": "2021-02-25T12:16:36.766827Z",
          "iopub.status.idle": "2021-02-25T12:16:39.987940Z",
          "shell.execute_reply": "2021-02-25T12:16:39.988478Z"
        },
        "papermill": {
          "duration": 3.268249,
          "end_time": "2021-02-25T12:16:39.988686",
          "exception": false,
          "start_time": "2021-02-25T12:16:36.720437",
          "status": "completed"
        },
        "tags": [],
        "id": "i0aN65-PtTr8"
      },
      "source": [
        "fake = pd.read_csv('../input/fake-and-real-news-dataset/Fake.csv')\n",
        "news = pd.read_csv('../input/fake-and-real-news-dataset/True.csv')"
      ],
      "execution_count": null,
      "outputs": []
    },
    {
      "cell_type": "markdown",
      "metadata": {
        "papermill": {
          "duration": 0.039452,
          "end_time": "2021-02-25T12:16:40.067807",
          "exception": false,
          "start_time": "2021-02-25T12:16:40.028355",
          "status": "completed"
        },
        "tags": [],
        "id": "VazmdagHtTr9"
      },
      "source": [
        "## Let's take a look at Real News"
      ]
    },
    {
      "cell_type": "code",
      "metadata": {
        "execution": {
          "iopub.execute_input": "2021-02-25T12:16:40.146677Z",
          "iopub.status.busy": "2021-02-25T12:16:40.146033Z",
          "iopub.status.idle": "2021-02-25T12:16:40.179740Z",
          "shell.execute_reply": "2021-02-25T12:16:40.179112Z"
        },
        "papermill": {
          "duration": 0.074184,
          "end_time": "2021-02-25T12:16:40.179887",
          "exception": false,
          "start_time": "2021-02-25T12:16:40.105703",
          "status": "completed"
        },
        "tags": [],
        "id": "aqc-AUz4tTr9",
        "outputId": "0af40a16-fe78-461f-9fb4-04a206f03674"
      },
      "source": [
        "news"
      ],
      "execution_count": null,
      "outputs": [
        {
          "output_type": "execute_result",
          "data": {
            "text/html": [
              "<div>\n",
              "<style scoped>\n",
              "    .dataframe tbody tr th:only-of-type {\n",
              "        vertical-align: middle;\n",
              "    }\n",
              "\n",
              "    .dataframe tbody tr th {\n",
              "        vertical-align: top;\n",
              "    }\n",
              "\n",
              "    .dataframe thead th {\n",
              "        text-align: right;\n",
              "    }\n",
              "</style>\n",
              "<table border=\"1\" class=\"dataframe\">\n",
              "  <thead>\n",
              "    <tr style=\"text-align: right;\">\n",
              "      <th></th>\n",
              "      <th>title</th>\n",
              "      <th>text</th>\n",
              "      <th>subject</th>\n",
              "      <th>date</th>\n",
              "    </tr>\n",
              "  </thead>\n",
              "  <tbody>\n",
              "    <tr>\n",
              "      <th>0</th>\n",
              "      <td>As U.S. budget fight looms, Republicans flip t...</td>\n",
              "      <td>WASHINGTON (Reuters) - The head of a conservat...</td>\n",
              "      <td>politicsNews</td>\n",
              "      <td>December 31, 2017</td>\n",
              "    </tr>\n",
              "    <tr>\n",
              "      <th>1</th>\n",
              "      <td>U.S. military to accept transgender recruits o...</td>\n",
              "      <td>WASHINGTON (Reuters) - Transgender people will...</td>\n",
              "      <td>politicsNews</td>\n",
              "      <td>December 29, 2017</td>\n",
              "    </tr>\n",
              "    <tr>\n",
              "      <th>2</th>\n",
              "      <td>Senior U.S. Republican senator: 'Let Mr. Muell...</td>\n",
              "      <td>WASHINGTON (Reuters) - The special counsel inv...</td>\n",
              "      <td>politicsNews</td>\n",
              "      <td>December 31, 2017</td>\n",
              "    </tr>\n",
              "    <tr>\n",
              "      <th>3</th>\n",
              "      <td>FBI Russia probe helped by Australian diplomat...</td>\n",
              "      <td>WASHINGTON (Reuters) - Trump campaign adviser ...</td>\n",
              "      <td>politicsNews</td>\n",
              "      <td>December 30, 2017</td>\n",
              "    </tr>\n",
              "    <tr>\n",
              "      <th>4</th>\n",
              "      <td>Trump wants Postal Service to charge 'much mor...</td>\n",
              "      <td>SEATTLE/WASHINGTON (Reuters) - President Donal...</td>\n",
              "      <td>politicsNews</td>\n",
              "      <td>December 29, 2017</td>\n",
              "    </tr>\n",
              "    <tr>\n",
              "      <th>...</th>\n",
              "      <td>...</td>\n",
              "      <td>...</td>\n",
              "      <td>...</td>\n",
              "      <td>...</td>\n",
              "    </tr>\n",
              "    <tr>\n",
              "      <th>21412</th>\n",
              "      <td>'Fully committed' NATO backs new U.S. approach...</td>\n",
              "      <td>BRUSSELS (Reuters) - NATO allies on Tuesday we...</td>\n",
              "      <td>worldnews</td>\n",
              "      <td>August 22, 2017</td>\n",
              "    </tr>\n",
              "    <tr>\n",
              "      <th>21413</th>\n",
              "      <td>LexisNexis withdrew two products from Chinese ...</td>\n",
              "      <td>LONDON (Reuters) - LexisNexis, a provider of l...</td>\n",
              "      <td>worldnews</td>\n",
              "      <td>August 22, 2017</td>\n",
              "    </tr>\n",
              "    <tr>\n",
              "      <th>21414</th>\n",
              "      <td>Minsk cultural hub becomes haven from authorities</td>\n",
              "      <td>MINSK (Reuters) - In the shadow of disused Sov...</td>\n",
              "      <td>worldnews</td>\n",
              "      <td>August 22, 2017</td>\n",
              "    </tr>\n",
              "    <tr>\n",
              "      <th>21415</th>\n",
              "      <td>Vatican upbeat on possibility of Pope Francis ...</td>\n",
              "      <td>MOSCOW (Reuters) - Vatican Secretary of State ...</td>\n",
              "      <td>worldnews</td>\n",
              "      <td>August 22, 2017</td>\n",
              "    </tr>\n",
              "    <tr>\n",
              "      <th>21416</th>\n",
              "      <td>Indonesia to buy $1.14 billion worth of Russia...</td>\n",
              "      <td>JAKARTA (Reuters) - Indonesia will buy 11 Sukh...</td>\n",
              "      <td>worldnews</td>\n",
              "      <td>August 22, 2017</td>\n",
              "    </tr>\n",
              "  </tbody>\n",
              "</table>\n",
              "<p>21417 rows × 4 columns</p>\n",
              "</div>"
            ],
            "text/plain": [
              "                                                   title  \\\n",
              "0      As U.S. budget fight looms, Republicans flip t...   \n",
              "1      U.S. military to accept transgender recruits o...   \n",
              "2      Senior U.S. Republican senator: 'Let Mr. Muell...   \n",
              "3      FBI Russia probe helped by Australian diplomat...   \n",
              "4      Trump wants Postal Service to charge 'much mor...   \n",
              "...                                                  ...   \n",
              "21412  'Fully committed' NATO backs new U.S. approach...   \n",
              "21413  LexisNexis withdrew two products from Chinese ...   \n",
              "21414  Minsk cultural hub becomes haven from authorities   \n",
              "21415  Vatican upbeat on possibility of Pope Francis ...   \n",
              "21416  Indonesia to buy $1.14 billion worth of Russia...   \n",
              "\n",
              "                                                    text       subject  \\\n",
              "0      WASHINGTON (Reuters) - The head of a conservat...  politicsNews   \n",
              "1      WASHINGTON (Reuters) - Transgender people will...  politicsNews   \n",
              "2      WASHINGTON (Reuters) - The special counsel inv...  politicsNews   \n",
              "3      WASHINGTON (Reuters) - Trump campaign adviser ...  politicsNews   \n",
              "4      SEATTLE/WASHINGTON (Reuters) - President Donal...  politicsNews   \n",
              "...                                                  ...           ...   \n",
              "21412  BRUSSELS (Reuters) - NATO allies on Tuesday we...     worldnews   \n",
              "21413  LONDON (Reuters) - LexisNexis, a provider of l...     worldnews   \n",
              "21414  MINSK (Reuters) - In the shadow of disused Sov...     worldnews   \n",
              "21415  MOSCOW (Reuters) - Vatican Secretary of State ...     worldnews   \n",
              "21416  JAKARTA (Reuters) - Indonesia will buy 11 Sukh...     worldnews   \n",
              "\n",
              "                     date  \n",
              "0      December 31, 2017   \n",
              "1      December 29, 2017   \n",
              "2      December 31, 2017   \n",
              "3      December 30, 2017   \n",
              "4      December 29, 2017   \n",
              "...                   ...  \n",
              "21412    August 22, 2017   \n",
              "21413    August 22, 2017   \n",
              "21414    August 22, 2017   \n",
              "21415    August 22, 2017   \n",
              "21416    August 22, 2017   \n",
              "\n",
              "[21417 rows x 4 columns]"
            ]
          },
          "metadata": {
            "tags": []
          },
          "execution_count": 3
        }
      ]
    },
    {
      "cell_type": "markdown",
      "metadata": {
        "papermill": {
          "duration": 0.03764,
          "end_time": "2021-02-25T12:16:40.255728",
          "exception": false,
          "start_time": "2021-02-25T12:16:40.218088",
          "status": "completed"
        },
        "tags": [],
        "id": "uGqYr7__tTr_"
      },
      "source": [
        "are there any missing values in `News.csv`?"
      ]
    },
    {
      "cell_type": "code",
      "metadata": {
        "execution": {
          "iopub.execute_input": "2021-02-25T12:16:40.346626Z",
          "iopub.status.busy": "2021-02-25T12:16:40.345642Z",
          "iopub.status.idle": "2021-02-25T12:16:40.354452Z",
          "shell.execute_reply": "2021-02-25T12:16:40.353893Z"
        },
        "papermill": {
          "duration": 0.060991,
          "end_time": "2021-02-25T12:16:40.354590",
          "exception": false,
          "start_time": "2021-02-25T12:16:40.293599",
          "status": "completed"
        },
        "tags": [],
        "id": "F52_VPwitTr_",
        "outputId": "aa55f7f3-fd70-482d-ad10-070e98be13bf"
      },
      "source": [
        "news.isna().sum()"
      ],
      "execution_count": null,
      "outputs": [
        {
          "output_type": "execute_result",
          "data": {
            "text/plain": [
              "title      0\n",
              "text       0\n",
              "subject    0\n",
              "date       0\n",
              "dtype: int64"
            ]
          },
          "metadata": {
            "tags": []
          },
          "execution_count": 4
        }
      ]
    },
    {
      "cell_type": "markdown",
      "metadata": {
        "papermill": {
          "duration": 0.037959,
          "end_time": "2021-02-25T12:16:40.430968",
          "exception": false,
          "start_time": "2021-02-25T12:16:40.393009",
          "status": "completed"
        },
        "tags": [],
        "id": "e0LA-TYbtTsA"
      },
      "source": [
        "not a single column contains missing values!"
      ]
    },
    {
      "cell_type": "markdown",
      "metadata": {
        "papermill": {
          "duration": 0.038253,
          "end_time": "2021-02-25T12:16:40.507472",
          "exception": false,
          "start_time": "2021-02-25T12:16:40.469219",
          "status": "completed"
        },
        "tags": [],
        "id": "MEu2S5GytTsA"
      },
      "source": [
        "Which `subjects` are contained in this file?"
      ]
    },
    {
      "cell_type": "code",
      "metadata": {
        "execution": {
          "iopub.execute_input": "2021-02-25T12:16:40.597991Z",
          "iopub.status.busy": "2021-02-25T12:16:40.597031Z",
          "iopub.status.idle": "2021-02-25T12:16:40.602200Z",
          "shell.execute_reply": "2021-02-25T12:16:40.601593Z"
        },
        "papermill": {
          "duration": 0.05647,
          "end_time": "2021-02-25T12:16:40.602334",
          "exception": false,
          "start_time": "2021-02-25T12:16:40.545864",
          "status": "completed"
        },
        "tags": [],
        "id": "pvwXBibctTsB",
        "outputId": "dee8569f-12ec-40ee-a776-93650402f3dc"
      },
      "source": [
        "news['subject'].value_counts()"
      ],
      "execution_count": null,
      "outputs": [
        {
          "output_type": "execute_result",
          "data": {
            "text/plain": [
              "politicsNews    11272\n",
              "worldnews       10145\n",
              "Name: subject, dtype: int64"
            ]
          },
          "metadata": {
            "tags": []
          },
          "execution_count": 5
        }
      ]
    },
    {
      "cell_type": "markdown",
      "metadata": {
        "papermill": {
          "duration": 0.038336,
          "end_time": "2021-02-25T12:16:40.679481",
          "exception": false,
          "start_time": "2021-02-25T12:16:40.641145",
          "status": "completed"
        },
        "tags": [],
        "id": "RQ_yGpT1tTsB"
      },
      "source": [
        "## Let's take a look at Fake News"
      ]
    },
    {
      "cell_type": "code",
      "metadata": {
        "execution": {
          "iopub.execute_input": "2021-02-25T12:16:40.771272Z",
          "iopub.status.busy": "2021-02-25T12:16:40.770271Z",
          "iopub.status.idle": "2021-02-25T12:16:40.775280Z",
          "shell.execute_reply": "2021-02-25T12:16:40.774765Z"
        },
        "papermill": {
          "duration": 0.057502,
          "end_time": "2021-02-25T12:16:40.775434",
          "exception": false,
          "start_time": "2021-02-25T12:16:40.717932",
          "status": "completed"
        },
        "tags": [],
        "id": "VBqD0fa-tTsB",
        "outputId": "32ae474b-d44c-441d-bcec-cd565f37ad57"
      },
      "source": [
        "fake"
      ],
      "execution_count": null,
      "outputs": [
        {
          "output_type": "execute_result",
          "data": {
            "text/html": [
              "<div>\n",
              "<style scoped>\n",
              "    .dataframe tbody tr th:only-of-type {\n",
              "        vertical-align: middle;\n",
              "    }\n",
              "\n",
              "    .dataframe tbody tr th {\n",
              "        vertical-align: top;\n",
              "    }\n",
              "\n",
              "    .dataframe thead th {\n",
              "        text-align: right;\n",
              "    }\n",
              "</style>\n",
              "<table border=\"1\" class=\"dataframe\">\n",
              "  <thead>\n",
              "    <tr style=\"text-align: right;\">\n",
              "      <th></th>\n",
              "      <th>title</th>\n",
              "      <th>text</th>\n",
              "      <th>subject</th>\n",
              "      <th>date</th>\n",
              "    </tr>\n",
              "  </thead>\n",
              "  <tbody>\n",
              "    <tr>\n",
              "      <th>0</th>\n",
              "      <td>Donald Trump Sends Out Embarrassing New Year’...</td>\n",
              "      <td>Donald Trump just couldn t wish all Americans ...</td>\n",
              "      <td>News</td>\n",
              "      <td>December 31, 2017</td>\n",
              "    </tr>\n",
              "    <tr>\n",
              "      <th>1</th>\n",
              "      <td>Drunk Bragging Trump Staffer Started Russian ...</td>\n",
              "      <td>House Intelligence Committee Chairman Devin Nu...</td>\n",
              "      <td>News</td>\n",
              "      <td>December 31, 2017</td>\n",
              "    </tr>\n",
              "    <tr>\n",
              "      <th>2</th>\n",
              "      <td>Sheriff David Clarke Becomes An Internet Joke...</td>\n",
              "      <td>On Friday, it was revealed that former Milwauk...</td>\n",
              "      <td>News</td>\n",
              "      <td>December 30, 2017</td>\n",
              "    </tr>\n",
              "    <tr>\n",
              "      <th>3</th>\n",
              "      <td>Trump Is So Obsessed He Even Has Obama’s Name...</td>\n",
              "      <td>On Christmas day, Donald Trump announced that ...</td>\n",
              "      <td>News</td>\n",
              "      <td>December 29, 2017</td>\n",
              "    </tr>\n",
              "    <tr>\n",
              "      <th>4</th>\n",
              "      <td>Pope Francis Just Called Out Donald Trump Dur...</td>\n",
              "      <td>Pope Francis used his annual Christmas Day mes...</td>\n",
              "      <td>News</td>\n",
              "      <td>December 25, 2017</td>\n",
              "    </tr>\n",
              "    <tr>\n",
              "      <th>...</th>\n",
              "      <td>...</td>\n",
              "      <td>...</td>\n",
              "      <td>...</td>\n",
              "      <td>...</td>\n",
              "    </tr>\n",
              "    <tr>\n",
              "      <th>23476</th>\n",
              "      <td>McPain: John McCain Furious That Iran Treated ...</td>\n",
              "      <td>21st Century Wire says As 21WIRE reported earl...</td>\n",
              "      <td>Middle-east</td>\n",
              "      <td>January 16, 2016</td>\n",
              "    </tr>\n",
              "    <tr>\n",
              "      <th>23477</th>\n",
              "      <td>JUSTICE? Yahoo Settles E-mail Privacy Class-ac...</td>\n",
              "      <td>21st Century Wire says It s a familiar theme. ...</td>\n",
              "      <td>Middle-east</td>\n",
              "      <td>January 16, 2016</td>\n",
              "    </tr>\n",
              "    <tr>\n",
              "      <th>23478</th>\n",
              "      <td>Sunnistan: US and Allied ‘Safe Zone’ Plan to T...</td>\n",
              "      <td>Patrick Henningsen  21st Century WireRemember ...</td>\n",
              "      <td>Middle-east</td>\n",
              "      <td>January 15, 2016</td>\n",
              "    </tr>\n",
              "    <tr>\n",
              "      <th>23479</th>\n",
              "      <td>How to Blow $700 Million: Al Jazeera America F...</td>\n",
              "      <td>21st Century Wire says Al Jazeera America will...</td>\n",
              "      <td>Middle-east</td>\n",
              "      <td>January 14, 2016</td>\n",
              "    </tr>\n",
              "    <tr>\n",
              "      <th>23480</th>\n",
              "      <td>10 U.S. Navy Sailors Held by Iranian Military ...</td>\n",
              "      <td>21st Century Wire says As 21WIRE predicted in ...</td>\n",
              "      <td>Middle-east</td>\n",
              "      <td>January 12, 2016</td>\n",
              "    </tr>\n",
              "  </tbody>\n",
              "</table>\n",
              "<p>23481 rows × 4 columns</p>\n",
              "</div>"
            ],
            "text/plain": [
              "                                                   title  \\\n",
              "0       Donald Trump Sends Out Embarrassing New Year’...   \n",
              "1       Drunk Bragging Trump Staffer Started Russian ...   \n",
              "2       Sheriff David Clarke Becomes An Internet Joke...   \n",
              "3       Trump Is So Obsessed He Even Has Obama’s Name...   \n",
              "4       Pope Francis Just Called Out Donald Trump Dur...   \n",
              "...                                                  ...   \n",
              "23476  McPain: John McCain Furious That Iran Treated ...   \n",
              "23477  JUSTICE? Yahoo Settles E-mail Privacy Class-ac...   \n",
              "23478  Sunnistan: US and Allied ‘Safe Zone’ Plan to T...   \n",
              "23479  How to Blow $700 Million: Al Jazeera America F...   \n",
              "23480  10 U.S. Navy Sailors Held by Iranian Military ...   \n",
              "\n",
              "                                                    text      subject  \\\n",
              "0      Donald Trump just couldn t wish all Americans ...         News   \n",
              "1      House Intelligence Committee Chairman Devin Nu...         News   \n",
              "2      On Friday, it was revealed that former Milwauk...         News   \n",
              "3      On Christmas day, Donald Trump announced that ...         News   \n",
              "4      Pope Francis used his annual Christmas Day mes...         News   \n",
              "...                                                  ...          ...   \n",
              "23476  21st Century Wire says As 21WIRE reported earl...  Middle-east   \n",
              "23477  21st Century Wire says It s a familiar theme. ...  Middle-east   \n",
              "23478  Patrick Henningsen  21st Century WireRemember ...  Middle-east   \n",
              "23479  21st Century Wire says Al Jazeera America will...  Middle-east   \n",
              "23480  21st Century Wire says As 21WIRE predicted in ...  Middle-east   \n",
              "\n",
              "                    date  \n",
              "0      December 31, 2017  \n",
              "1      December 31, 2017  \n",
              "2      December 30, 2017  \n",
              "3      December 29, 2017  \n",
              "4      December 25, 2017  \n",
              "...                  ...  \n",
              "23476   January 16, 2016  \n",
              "23477   January 16, 2016  \n",
              "23478   January 15, 2016  \n",
              "23479   January 14, 2016  \n",
              "23480   January 12, 2016  \n",
              "\n",
              "[23481 rows x 4 columns]"
            ]
          },
          "metadata": {
            "tags": []
          },
          "execution_count": 6
        }
      ]
    },
    {
      "cell_type": "markdown",
      "metadata": {
        "papermill": {
          "duration": 0.039079,
          "end_time": "2021-02-25T12:16:40.854301",
          "exception": false,
          "start_time": "2021-02-25T12:16:40.815222",
          "status": "completed"
        },
        "tags": [],
        "id": "hI3R4vritTsC"
      },
      "source": [
        "are there any missing values in `Fake.csv`?"
      ]
    },
    {
      "cell_type": "code",
      "metadata": {
        "execution": {
          "iopub.execute_input": "2021-02-25T12:16:40.951557Z",
          "iopub.status.busy": "2021-02-25T12:16:40.949028Z",
          "iopub.status.idle": "2021-02-25T12:16:40.956360Z",
          "shell.execute_reply": "2021-02-25T12:16:40.955812Z"
        },
        "papermill": {
          "duration": 0.062732,
          "end_time": "2021-02-25T12:16:40.956526",
          "exception": false,
          "start_time": "2021-02-25T12:16:40.893794",
          "status": "completed"
        },
        "tags": [],
        "id": "qMhHMw8DtTsD",
        "outputId": "8d17e8cf-2bd8-4dec-923a-4d4f958c428c"
      },
      "source": [
        "fake.isna().sum()"
      ],
      "execution_count": null,
      "outputs": [
        {
          "output_type": "execute_result",
          "data": {
            "text/plain": [
              "title      0\n",
              "text       0\n",
              "subject    0\n",
              "date       0\n",
              "dtype: int64"
            ]
          },
          "metadata": {
            "tags": []
          },
          "execution_count": 7
        }
      ]
    },
    {
      "cell_type": "markdown",
      "metadata": {
        "papermill": {
          "duration": 0.039759,
          "end_time": "2021-02-25T12:16:41.036993",
          "exception": false,
          "start_time": "2021-02-25T12:16:40.997234",
          "status": "completed"
        },
        "tags": [],
        "id": "EqoJHLXdtTsD"
      },
      "source": [
        "not a single column contains missing values!"
      ]
    },
    {
      "cell_type": "markdown",
      "metadata": {
        "papermill": {
          "duration": 0.03985,
          "end_time": "2021-02-25T12:16:41.116853",
          "exception": false,
          "start_time": "2021-02-25T12:16:41.077003",
          "status": "completed"
        },
        "tags": [],
        "id": "_ZO7VoaHtTsE"
      },
      "source": [
        "Which `subjects` are contained in this file?"
      ]
    },
    {
      "cell_type": "code",
      "metadata": {
        "execution": {
          "iopub.execute_input": "2021-02-25T12:16:41.208849Z",
          "iopub.status.busy": "2021-02-25T12:16:41.206555Z",
          "iopub.status.idle": "2021-02-25T12:16:41.213090Z",
          "shell.execute_reply": "2021-02-25T12:16:41.213587Z"
        },
        "papermill": {
          "duration": 0.056708,
          "end_time": "2021-02-25T12:16:41.213762",
          "exception": false,
          "start_time": "2021-02-25T12:16:41.157054",
          "status": "completed"
        },
        "tags": [],
        "id": "DaHpUaXctTsE",
        "outputId": "7da18325-d093-4154-ceea-d9c60b4cef24"
      },
      "source": [
        "fake['subject'].value_counts()"
      ],
      "execution_count": null,
      "outputs": [
        {
          "output_type": "execute_result",
          "data": {
            "text/plain": [
              "News               9050\n",
              "politics           6841\n",
              "left-news          4459\n",
              "Government News    1570\n",
              "US_News             783\n",
              "Middle-east         778\n",
              "Name: subject, dtype: int64"
            ]
          },
          "metadata": {
            "tags": []
          },
          "execution_count": 8
        }
      ]
    },
    {
      "cell_type": "markdown",
      "metadata": {
        "papermill": {
          "duration": 0.04036,
          "end_time": "2021-02-25T12:16:41.295269",
          "exception": false,
          "start_time": "2021-02-25T12:16:41.254909",
          "status": "completed"
        },
        "tags": [],
        "id": "1-GYDlHNtTsF"
      },
      "source": [
        "-> Both CSV files contain the same variables, `title`, `text`, `subject`, and `date`. We have roughly as many real news as fake news. THis might be very supportive for fututre predictions. We don't need to oversample or undersample our dataset, because the dataset is balanced w.r.t. the target. Unfortunately, none of the files contains an explicit column for the target variable `is_fake`. Let's create such a column! Afterwards we can merge them together into one file!"
      ]
    },
    {
      "cell_type": "code",
      "metadata": {
        "execution": {
          "iopub.execute_input": "2021-02-25T12:16:41.384027Z",
          "iopub.status.busy": "2021-02-25T12:16:41.383243Z",
          "iopub.status.idle": "2021-02-25T12:16:41.408025Z",
          "shell.execute_reply": "2021-02-25T12:16:41.407456Z"
        },
        "papermill": {
          "duration": 0.072209,
          "end_time": "2021-02-25T12:16:41.408162",
          "exception": false,
          "start_time": "2021-02-25T12:16:41.335953",
          "status": "completed"
        },
        "tags": [],
        "id": "ox0tqvhVtTsG"
      },
      "source": [
        "news['is_fake'] = 0 # contains only news\n",
        "fake['is_fake'] = 1 # contains only fakes\n",
        "\n",
        "# merge them into one file\n",
        "data = pd.concat([news, fake])\n",
        "data = data.reset_index()\n",
        "# don't forget to shuffle them. \n",
        "# Otherwise all news are on top and all fakes are on the bottom\n",
        "data = data.sample(frac=1)"
      ],
      "execution_count": null,
      "outputs": []
    },
    {
      "cell_type": "markdown",
      "metadata": {
        "papermill": {
          "duration": 0.041029,
          "end_time": "2021-02-25T12:16:41.491730",
          "exception": false,
          "start_time": "2021-02-25T12:16:41.450701",
          "status": "completed"
        },
        "tags": [],
        "id": "xt4xk392tTsH"
      },
      "source": [
        "For this notebook, I will ignore the `dates` and `subjects`(because they are disjoint). I will probably take a look at them in a later project. Let's drop them for now."
      ]
    },
    {
      "cell_type": "code",
      "metadata": {
        "execution": {
          "iopub.execute_input": "2021-02-25T12:16:41.581608Z",
          "iopub.status.busy": "2021-02-25T12:16:41.580976Z",
          "iopub.status.idle": "2021-02-25T12:16:41.953408Z",
          "shell.execute_reply": "2021-02-25T12:16:41.952833Z"
        },
        "papermill": {
          "duration": 0.420379,
          "end_time": "2021-02-25T12:16:41.953608",
          "exception": false,
          "start_time": "2021-02-25T12:16:41.533229",
          "status": "completed"
        },
        "tags": [],
        "id": "x_hen9O4tTsH",
        "outputId": "6244a080-14a3-463f-8a6f-ff4d97e587cb"
      },
      "source": [
        "data.duplicated().sum()"
      ],
      "execution_count": null,
      "outputs": [
        {
          "output_type": "execute_result",
          "data": {
            "text/plain": [
              "0"
            ]
          },
          "metadata": {
            "tags": []
          },
          "execution_count": 10
        }
      ]
    },
    {
      "cell_type": "markdown",
      "metadata": {
        "papermill": {
          "duration": 0.040888,
          "end_time": "2021-02-25T12:16:42.036528",
          "exception": false,
          "start_time": "2021-02-25T12:16:41.995640",
          "status": "completed"
        },
        "tags": [],
        "id": "YVg_6i__tTsI"
      },
      "source": [
        "Are there any duplicates in the data? If yes, we would have to remove them"
      ]
    },
    {
      "cell_type": "code",
      "metadata": {
        "execution": {
          "iopub.execute_input": "2021-02-25T12:16:42.129553Z",
          "iopub.status.busy": "2021-02-25T12:16:42.124821Z",
          "iopub.status.idle": "2021-02-25T12:16:42.132539Z",
          "shell.execute_reply": "2021-02-25T12:16:42.132023Z"
        },
        "papermill": {
          "duration": 0.055157,
          "end_time": "2021-02-25T12:16:42.132690",
          "exception": false,
          "start_time": "2021-02-25T12:16:42.077533",
          "status": "completed"
        },
        "tags": [],
        "id": "e87QS9CLtTsJ"
      },
      "source": [
        "data = data.drop(['date', 'subject'], axis=1)\n"
      ],
      "execution_count": null,
      "outputs": []
    },
    {
      "cell_type": "markdown",
      "metadata": {
        "papermill": {
          "duration": 0.041021,
          "end_time": "2021-02-25T12:16:42.214982",
          "exception": false,
          "start_time": "2021-02-25T12:16:42.173961",
          "status": "completed"
        },
        "tags": [],
        "id": "Dt331fbFtTsJ"
      },
      "source": [
        "Before taking a closer look at the data, perform a `train_test_split` to evade **Data Snooping**!"
      ]
    },
    {
      "cell_type": "code",
      "metadata": {
        "execution": {
          "iopub.execute_input": "2021-02-25T12:16:42.300820Z",
          "iopub.status.busy": "2021-02-25T12:16:42.300203Z",
          "iopub.status.idle": "2021-02-25T12:16:42.318252Z",
          "shell.execute_reply": "2021-02-25T12:16:42.318739Z"
        },
        "papermill": {
          "duration": 0.062832,
          "end_time": "2021-02-25T12:16:42.318921",
          "exception": false,
          "start_time": "2021-02-25T12:16:42.256089",
          "status": "completed"
        },
        "tags": [],
        "id": "HHWCAOGotTsK"
      },
      "source": [
        "from sklearn.model_selection import train_test_split\n",
        "train, test = train_test_split(data, test_size=0.2, random_state=42)\n",
        "X_train = train.drop('is_fake', axis=1)\n",
        "y_train = train['is_fake']\n",
        "X_test = test.drop('is_fake', axis=1)\n",
        "y_test = test['is_fake']"
      ],
      "execution_count": null,
      "outputs": []
    },
    {
      "cell_type": "markdown",
      "metadata": {
        "papermill": {
          "duration": 0.041014,
          "end_time": "2021-02-25T12:16:42.401216",
          "exception": false,
          "start_time": "2021-02-25T12:16:42.360202",
          "status": "completed"
        },
        "tags": [],
        "id": "38CwL6QotTsK"
      },
      "source": [
        "how are Fake News distributed among the train and the test data?"
      ]
    },
    {
      "cell_type": "code",
      "metadata": {
        "execution": {
          "iopub.execute_input": "2021-02-25T12:16:42.487607Z",
          "iopub.status.busy": "2021-02-25T12:16:42.486951Z",
          "iopub.status.idle": "2021-02-25T12:16:42.494158Z",
          "shell.execute_reply": "2021-02-25T12:16:42.494633Z"
        },
        "papermill": {
          "duration": 0.052254,
          "end_time": "2021-02-25T12:16:42.494806",
          "exception": false,
          "start_time": "2021-02-25T12:16:42.442552",
          "status": "completed"
        },
        "tags": [],
        "id": "x8eyoJgVtTsL",
        "outputId": "bae12439-bcfa-473e-acd6-4178ce77c901"
      },
      "source": [
        "y_train.value_counts()"
      ],
      "execution_count": null,
      "outputs": [
        {
          "output_type": "execute_result",
          "data": {
            "text/plain": [
              "1    18817\n",
              "0    17101\n",
              "Name: is_fake, dtype: int64"
            ]
          },
          "metadata": {
            "tags": []
          },
          "execution_count": 13
        }
      ]
    },
    {
      "cell_type": "code",
      "metadata": {
        "execution": {
          "iopub.execute_input": "2021-02-25T12:16:42.583937Z",
          "iopub.status.busy": "2021-02-25T12:16:42.583000Z",
          "iopub.status.idle": "2021-02-25T12:16:42.588486Z",
          "shell.execute_reply": "2021-02-25T12:16:42.588976Z"
        },
        "papermill": {
          "duration": 0.052413,
          "end_time": "2021-02-25T12:16:42.589140",
          "exception": false,
          "start_time": "2021-02-25T12:16:42.536727",
          "status": "completed"
        },
        "tags": [],
        "id": "DmiqLU2UtTsM",
        "outputId": "4224254f-5685-42cd-993c-26b043853673"
      },
      "source": [
        "y_test.value_counts()"
      ],
      "execution_count": null,
      "outputs": [
        {
          "output_type": "execute_result",
          "data": {
            "text/plain": [
              "1    4664\n",
              "0    4316\n",
              "Name: is_fake, dtype: int64"
            ]
          },
          "metadata": {
            "tags": []
          },
          "execution_count": 14
        }
      ]
    },
    {
      "cell_type": "markdown",
      "metadata": {
        "papermill": {
          "duration": 0.041855,
          "end_time": "2021-02-25T12:16:42.673116",
          "exception": false,
          "start_time": "2021-02-25T12:16:42.631261",
          "status": "completed"
        },
        "tags": [],
        "id": "BJmwLg2RtTsN"
      },
      "source": [
        "# Inspect the Training data to get further insights\n",
        "Therefore we have to split the Training set into News and Fake News"
      ]
    },
    {
      "cell_type": "code",
      "metadata": {
        "execution": {
          "iopub.execute_input": "2021-02-25T12:16:42.761267Z",
          "iopub.status.busy": "2021-02-25T12:16:42.760341Z",
          "iopub.status.idle": "2021-02-25T12:16:42.789587Z",
          "shell.execute_reply": "2021-02-25T12:16:42.788969Z"
        },
        "papermill": {
          "duration": 0.074287,
          "end_time": "2021-02-25T12:16:42.789725",
          "exception": false,
          "start_time": "2021-02-25T12:16:42.715438",
          "status": "completed"
        },
        "tags": [],
        "id": "VCI7UE7LtTsN"
      },
      "source": [
        "train_news = X_train.loc[(y_train==0),:]\n",
        "train_fake = X_train.loc[(y_train==1),:]"
      ],
      "execution_count": null,
      "outputs": []
    },
    {
      "cell_type": "markdown",
      "metadata": {
        "papermill": {
          "duration": 0.042489,
          "end_time": "2021-02-25T12:16:42.874945",
          "exception": false,
          "start_time": "2021-02-25T12:16:42.832456",
          "status": "completed"
        },
        "tags": [],
        "id": "vLYVBlXHtTsO"
      },
      "source": [
        "## Lexical Diversity of Fake News\n",
        "Let's define a measure for lexical diversity to find out how many unique vocabs are used in Fake News articles.\n",
        "\n",
        "Let's define the lexical diversity measure as $\\frac{\\text{number of unique words in one (target)category}}{\\text{number of words in both (target)categories}}$"
      ]
    },
    {
      "cell_type": "code",
      "metadata": {
        "execution": {
          "iopub.execute_input": "2021-02-25T12:16:42.964940Z",
          "iopub.status.busy": "2021-02-25T12:16:42.964312Z",
          "iopub.status.idle": "2021-02-25T12:17:06.874952Z",
          "shell.execute_reply": "2021-02-25T12:17:06.874309Z"
        },
        "papermill": {
          "duration": 23.957379,
          "end_time": "2021-02-25T12:17:06.875121",
          "exception": false,
          "start_time": "2021-02-25T12:16:42.917742",
          "status": "completed"
        },
        "tags": [],
        "id": "nfGbsnZItTsO",
        "outputId": "d7193cb2-7013-4a62-f676-9c72df3e6b15"
      },
      "source": [
        "# a very simple measure for lexical diversity\n",
        "def lexical_diversity(data, other_data, feature):\n",
        "    # ignoare capital letters\n",
        "    column = data[feature].str.lower() \n",
        "    # create one text from the column\n",
        "    text = ' '.join(column)\n",
        "    # drop punctuation\n",
        "    exclude = set(string.punctuation)\n",
        "    words = ''.join(char for char in text if char not in exclude)\n",
        "    # create a list of wordsw instead of one huge text\n",
        "    words_splitted = words.split()\n",
        "    \n",
        "    # analogously\n",
        "    other_column = other_data[feature].str.lower() \n",
        "    other_text = ' '.join(other_column)\n",
        "    other_words = ''.join(char for char in other_text if char not in exclude)\n",
        "    other_words_splitted = other_words.split()\n",
        "    # lexical diversity measure\n",
        "    return len(set(words_splitted)) / (len(words_splitted) + len(other_words_splitted))\n",
        "\n",
        "print(f'Real News: {lexical_diversity(data=train_news, other_data=train_fake, feature=\"text\")}')\n",
        "print(f'Fake News: {lexical_diversity(data=train_fake, other_data=train_news, feature=\"text\")}')"
      ],
      "execution_count": null,
      "outputs": [
        {
          "output_type": "stream",
          "text": [
            "Real News: 0.006294777673831783\n",
            "Fake News: 0.01155576184167068\n"
          ],
          "name": "stdout"
        }
      ]
    },
    {
      "cell_type": "markdown",
      "metadata": {
        "papermill": {
          "duration": 0.044633,
          "end_time": "2021-02-25T12:17:06.964964",
          "exception": false,
          "start_time": "2021-02-25T12:17:06.920331",
          "status": "completed"
        },
        "tags": [],
        "id": "_Tx8k-ZutTsP"
      },
      "source": [
        "Interestingly it seems like `Fake News` contain almost two times greater lexical diversity than real news. Their authors seem to have a wide vocabulary."
      ]
    },
    {
      "cell_type": "markdown",
      "metadata": {
        "papermill": {
          "duration": 0.042925,
          "end_time": "2021-02-25T12:17:07.051626",
          "exception": false,
          "start_time": "2021-02-25T12:17:07.008701",
          "status": "completed"
        },
        "tags": [],
        "id": "djfGW6kXtTsP"
      },
      "source": [
        "## Most frequently used words in Titles\n",
        "is there a difference between the most frequently used words in the titles of Real News and Fake News? This question might already reveal the topics of the Fake News articles."
      ]
    },
    {
      "cell_type": "code",
      "metadata": {
        "execution": {
          "iopub.execute_input": "2021-02-25T12:17:07.221010Z",
          "iopub.status.busy": "2021-02-25T12:17:07.184789Z",
          "iopub.status.idle": "2021-02-25T12:17:07.873174Z",
          "shell.execute_reply": "2021-02-25T12:17:07.872638Z"
        },
        "papermill": {
          "duration": 0.777635,
          "end_time": "2021-02-25T12:17:07.873320",
          "exception": false,
          "start_time": "2021-02-25T12:17:07.095685",
          "status": "completed"
        },
        "tags": [],
        "id": "cPViTg1jtTsQ",
        "outputId": "722a0241-37af-46bb-f7f0-9d658f50ef21"
      },
      "source": [
        "stopwords = set(STOPWORDS)\n",
        "\n",
        "def common_tokens_title(data, feature, name):\n",
        "    column = data[feature].str.lower() \n",
        "    text = ' '.join(column)\n",
        "    exclude = set(string.punctuation)\n",
        "    words = ''.join(char for char in text if char not in exclude)\n",
        "    words_splitted = words.split()\n",
        "    words_stopped = [word for word in words_splitted if not word in stopwords]\n",
        "    print(f'{name}:\\n{pd.DataFrame(nltk.FreqDist(words_stopped).most_common(10))[0]}')\n",
        "    \n",
        "common_tokens_title(train_news, 'title', 'Most common descriptive words in Real News Titles')\n",
        "print('\\n')\n",
        "common_tokens_title(train_fake, 'title', 'Most common descriptive words in Fake News Titles')"
      ],
      "execution_count": null,
      "outputs": [
        {
          "output_type": "stream",
          "text": [
            "Most common descriptive words in Real News Titles:\n",
            "0     trump\n",
            "1        us\n",
            "2      says\n",
            "3     house\n",
            "4     north\n",
            "5       new\n",
            "6     white\n",
            "7     korea\n",
            "8    russia\n",
            "9    senate\n",
            "Name: 0, dtype: object\n",
            "\n",
            "\n",
            "Most common descriptive words in Fake News Titles:\n",
            "0        video\n",
            "1        trump\n",
            "2        watch\n",
            "3        obama\n",
            "4      hillary\n",
            "5      trump’s\n",
            "6    president\n",
            "7           us\n",
            "8      clinton\n",
            "9     breaking\n",
            "Name: 0, dtype: object\n"
          ],
          "name": "stdout"
        }
      ]
    },
    {
      "cell_type": "markdown",
      "metadata": {
        "papermill": {
          "duration": 0.044913,
          "end_time": "2021-02-25T12:17:07.963183",
          "exception": false,
          "start_time": "2021-02-25T12:17:07.918270",
          "status": "completed"
        },
        "tags": [],
        "id": "NkFf0cE6tTsQ"
      },
      "source": [
        "It seems like most Fake News Articles in our Training data are about US Presidents and candidates for the latter. Besides `trump`, the real news seem to focus on more general political topics."
      ]
    },
    {
      "cell_type": "markdown",
      "metadata": {
        "papermill": {
          "duration": 0.044707,
          "end_time": "2021-02-25T12:17:08.053277",
          "exception": false,
          "start_time": "2021-02-25T12:17:08.008570",
          "status": "completed"
        },
        "tags": [],
        "id": "P2ninSA-tTsS"
      },
      "source": [
        "# Punctutation\n",
        "Punctuation might provide some information for predictions. "
      ]
    },
    {
      "cell_type": "code",
      "metadata": {
        "execution": {
          "iopub.execute_input": "2021-02-25T12:17:08.151222Z",
          "iopub.status.busy": "2021-02-25T12:17:08.150195Z",
          "iopub.status.idle": "2021-02-25T12:17:08.154877Z",
          "shell.execute_reply": "2021-02-25T12:17:08.154223Z"
        },
        "papermill": {
          "duration": 0.056861,
          "end_time": "2021-02-25T12:17:08.155016",
          "exception": false,
          "start_time": "2021-02-25T12:17:08.098155",
          "status": "completed"
        },
        "tags": [],
        "id": "I6-jCWaQtTsT",
        "outputId": "b0a6cdce-2121-409d-9d18-8e4f633bf40b"
      },
      "source": [
        "import regex as re\n",
        "\n",
        "# let's begin with a helper function to count punctuation\n",
        "def count_punctuation(text):\n",
        "    peri = re.subn(r\"\\.\", '', text)[1]\n",
        "    comm = re.subn(r\"\\,\", '', text)[1]\n",
        "    ques = re.subn(r\"\\?\", '', text)[1]\n",
        "    excl = re.subn(r\"\\!\", '', text)[1]\n",
        "    return [peri,comm, ques, excl]\n",
        "    \n",
        "count_punctuation('...alph!a.beta.gamma...??')"
      ],
      "execution_count": null,
      "outputs": [
        {
          "output_type": "execute_result",
          "data": {
            "text/plain": [
              "[8, 0, 2, 1]"
            ]
          },
          "metadata": {
            "tags": []
          },
          "execution_count": 18
        }
      ]
    },
    {
      "cell_type": "code",
      "metadata": {
        "execution": {
          "iopub.execute_input": "2021-02-25T12:17:08.252945Z",
          "iopub.status.busy": "2021-02-25T12:17:08.252247Z",
          "iopub.status.idle": "2021-02-25T12:18:04.385151Z",
          "shell.execute_reply": "2021-02-25T12:18:04.385660Z"
        },
        "papermill": {
          "duration": 56.185339,
          "end_time": "2021-02-25T12:18:04.385849",
          "exception": false,
          "start_time": "2021-02-25T12:17:08.200510",
          "status": "completed"
        },
        "tags": [],
        "id": "XW8vGK4YtTsU",
        "outputId": "08b5ebf1-9e97-4ef5-d51b-f077f3cd0f3b"
      },
      "source": [
        "# count the usage of puntuations per row in a specified feature (title and text)\n",
        "# and store the data in a dataframe\n",
        "def create_punctuation_df(dataset, feature):\n",
        "    return dataset.apply(lambda row: pd.Series({'peri_' + feature:count_punctuation(row[feature])[0], \n",
        "                                                       'comm_' + feature:count_punctuation(row[feature])[1],\n",
        "                                                      'ques_' + feature:count_punctuation(row[feature])[2],\n",
        "                                                      'excl_' + feature:count_punctuation(row[feature])[3]}), axis=1)\n",
        "\n",
        "punctuation_train_title = create_punctuation_df(train, 'title')\n",
        "punctuation_test_title = create_punctuation_df(test, 'title')\n",
        "punctuation_train_text = create_punctuation_df(train, 'text')\n",
        "punctuation_test_text = create_punctuation_df(test, 'text')\n",
        "punctuation_train_text "
      ],
      "execution_count": null,
      "outputs": [
        {
          "output_type": "execute_result",
          "data": {
            "text/html": [
              "<div>\n",
              "<style scoped>\n",
              "    .dataframe tbody tr th:only-of-type {\n",
              "        vertical-align: middle;\n",
              "    }\n",
              "\n",
              "    .dataframe tbody tr th {\n",
              "        vertical-align: top;\n",
              "    }\n",
              "\n",
              "    .dataframe thead th {\n",
              "        text-align: right;\n",
              "    }\n",
              "</style>\n",
              "<table border=\"1\" class=\"dataframe\">\n",
              "  <thead>\n",
              "    <tr style=\"text-align: right;\">\n",
              "      <th></th>\n",
              "      <th>peri_text</th>\n",
              "      <th>comm_text</th>\n",
              "      <th>ques_text</th>\n",
              "      <th>excl_text</th>\n",
              "    </tr>\n",
              "  </thead>\n",
              "  <tbody>\n",
              "    <tr>\n",
              "      <th>36115</th>\n",
              "      <td>28</td>\n",
              "      <td>19</td>\n",
              "      <td>0</td>\n",
              "      <td>1</td>\n",
              "    </tr>\n",
              "    <tr>\n",
              "      <th>44800</th>\n",
              "      <td>6</td>\n",
              "      <td>11</td>\n",
              "      <td>0</td>\n",
              "      <td>3</td>\n",
              "    </tr>\n",
              "    <tr>\n",
              "      <th>33108</th>\n",
              "      <td>3</td>\n",
              "      <td>3</td>\n",
              "      <td>0</td>\n",
              "      <td>0</td>\n",
              "    </tr>\n",
              "    <tr>\n",
              "      <th>36535</th>\n",
              "      <td>5</td>\n",
              "      <td>1</td>\n",
              "      <td>1</td>\n",
              "      <td>1</td>\n",
              "    </tr>\n",
              "    <tr>\n",
              "      <th>15801</th>\n",
              "      <td>27</td>\n",
              "      <td>22</td>\n",
              "      <td>0</td>\n",
              "      <td>0</td>\n",
              "    </tr>\n",
              "    <tr>\n",
              "      <th>...</th>\n",
              "      <td>...</td>\n",
              "      <td>...</td>\n",
              "      <td>...</td>\n",
              "      <td>...</td>\n",
              "    </tr>\n",
              "    <tr>\n",
              "      <th>16562</th>\n",
              "      <td>24</td>\n",
              "      <td>27</td>\n",
              "      <td>0</td>\n",
              "      <td>0</td>\n",
              "    </tr>\n",
              "    <tr>\n",
              "      <th>5116</th>\n",
              "      <td>13</td>\n",
              "      <td>7</td>\n",
              "      <td>0</td>\n",
              "      <td>0</td>\n",
              "    </tr>\n",
              "    <tr>\n",
              "      <th>7782</th>\n",
              "      <td>32</td>\n",
              "      <td>29</td>\n",
              "      <td>0</td>\n",
              "      <td>0</td>\n",
              "    </tr>\n",
              "    <tr>\n",
              "      <th>33836</th>\n",
              "      <td>0</td>\n",
              "      <td>0</td>\n",
              "      <td>0</td>\n",
              "      <td>0</td>\n",
              "    </tr>\n",
              "    <tr>\n",
              "      <th>24001</th>\n",
              "      <td>20</td>\n",
              "      <td>22</td>\n",
              "      <td>0</td>\n",
              "      <td>0</td>\n",
              "    </tr>\n",
              "  </tbody>\n",
              "</table>\n",
              "<p>35918 rows × 4 columns</p>\n",
              "</div>"
            ],
            "text/plain": [
              "       peri_text  comm_text  ques_text  excl_text\n",
              "36115         28         19          0          1\n",
              "44800          6         11          0          3\n",
              "33108          3          3          0          0\n",
              "36535          5          1          1          1\n",
              "15801         27         22          0          0\n",
              "...          ...        ...        ...        ...\n",
              "16562         24         27          0          0\n",
              "5116          13          7          0          0\n",
              "7782          32         29          0          0\n",
              "33836          0          0          0          0\n",
              "24001         20         22          0          0\n",
              "\n",
              "[35918 rows x 4 columns]"
            ]
          },
          "metadata": {
            "tags": []
          },
          "execution_count": 19
        }
      ]
    },
    {
      "cell_type": "markdown",
      "metadata": {
        "papermill": {
          "duration": 0.044879,
          "end_time": "2021-02-25T12:18:04.475981",
          "exception": false,
          "start_time": "2021-02-25T12:18:04.431102",
          "status": "completed"
        },
        "tags": [],
        "id": "d0CUix-DtTsV"
      },
      "source": [
        "# Text Length"
      ]
    },
    {
      "cell_type": "code",
      "metadata": {
        "execution": {
          "iopub.execute_input": "2021-02-25T12:18:04.575429Z",
          "iopub.status.busy": "2021-02-25T12:18:04.573883Z",
          "iopub.status.idle": "2021-02-25T12:18:23.597367Z",
          "shell.execute_reply": "2021-02-25T12:18:23.597875Z"
        },
        "papermill": {
          "duration": 19.075161,
          "end_time": "2021-02-25T12:18:23.598044",
          "exception": false,
          "start_time": "2021-02-25T12:18:04.522883",
          "status": "completed"
        },
        "tags": [],
        "id": "4i_-u8IrtTsY",
        "outputId": "a7fcb733-838f-4b12-9052-cbd626e15776"
      },
      "source": [
        "# count the text length per row for both features (title and text)\n",
        "# and store the information in a dataframe\n",
        "def create_len_df(dataset):\n",
        "    return dataset.apply(lambda row: pd.Series({'length_title':len(row['title']),\n",
        "                                               'length_text':len(row['text'])}), axis=1)\n",
        "\n",
        "len_train = create_len_df(train)\n",
        "len_test = create_len_df(test)\n",
        "\n",
        "len_train"
      ],
      "execution_count": null,
      "outputs": [
        {
          "output_type": "execute_result",
          "data": {
            "text/html": [
              "<div>\n",
              "<style scoped>\n",
              "    .dataframe tbody tr th:only-of-type {\n",
              "        vertical-align: middle;\n",
              "    }\n",
              "\n",
              "    .dataframe tbody tr th {\n",
              "        vertical-align: top;\n",
              "    }\n",
              "\n",
              "    .dataframe thead th {\n",
              "        text-align: right;\n",
              "    }\n",
              "</style>\n",
              "<table border=\"1\" class=\"dataframe\">\n",
              "  <thead>\n",
              "    <tr style=\"text-align: right;\">\n",
              "      <th></th>\n",
              "      <th>length_title</th>\n",
              "      <th>length_text</th>\n",
              "    </tr>\n",
              "  </thead>\n",
              "  <tbody>\n",
              "    <tr>\n",
              "      <th>36115</th>\n",
              "      <td>85</td>\n",
              "      <td>1476</td>\n",
              "    </tr>\n",
              "    <tr>\n",
              "      <th>44800</th>\n",
              "      <td>65</td>\n",
              "      <td>1269</td>\n",
              "    </tr>\n",
              "    <tr>\n",
              "      <th>33108</th>\n",
              "      <td>127</td>\n",
              "      <td>591</td>\n",
              "    </tr>\n",
              "    <tr>\n",
              "      <th>36535</th>\n",
              "      <td>43</td>\n",
              "      <td>577</td>\n",
              "    </tr>\n",
              "    <tr>\n",
              "      <th>15801</th>\n",
              "      <td>60</td>\n",
              "      <td>3354</td>\n",
              "    </tr>\n",
              "    <tr>\n",
              "      <th>...</th>\n",
              "      <td>...</td>\n",
              "      <td>...</td>\n",
              "    </tr>\n",
              "    <tr>\n",
              "      <th>16562</th>\n",
              "      <td>77</td>\n",
              "      <td>2898</td>\n",
              "    </tr>\n",
              "    <tr>\n",
              "      <th>5116</th>\n",
              "      <td>74</td>\n",
              "      <td>1857</td>\n",
              "    </tr>\n",
              "    <tr>\n",
              "      <th>7782</th>\n",
              "      <td>63</td>\n",
              "      <td>4422</td>\n",
              "    </tr>\n",
              "    <tr>\n",
              "      <th>33836</th>\n",
              "      <td>82</td>\n",
              "      <td>1</td>\n",
              "    </tr>\n",
              "    <tr>\n",
              "      <th>24001</th>\n",
              "      <td>95</td>\n",
              "      <td>2152</td>\n",
              "    </tr>\n",
              "  </tbody>\n",
              "</table>\n",
              "<p>35918 rows × 2 columns</p>\n",
              "</div>"
            ],
            "text/plain": [
              "       length_title  length_text\n",
              "36115            85         1476\n",
              "44800            65         1269\n",
              "33108           127          591\n",
              "36535            43          577\n",
              "15801            60         3354\n",
              "...             ...          ...\n",
              "16562            77         2898\n",
              "5116             74         1857\n",
              "7782             63         4422\n",
              "33836            82            1\n",
              "24001            95         2152\n",
              "\n",
              "[35918 rows x 2 columns]"
            ]
          },
          "metadata": {
            "tags": []
          },
          "execution_count": 20
        }
      ]
    },
    {
      "cell_type": "markdown",
      "metadata": {
        "papermill": {
          "duration": 0.046603,
          "end_time": "2021-02-25T12:18:23.690652",
          "exception": false,
          "start_time": "2021-02-25T12:18:23.644049",
          "status": "completed"
        },
        "tags": [],
        "id": "WHlBsXpItTsa"
      },
      "source": [
        "## Number of Words in the Title\n",
        "Let's create a feature which counts the number of words in the Title. In my **Digital Markeeting Courses** I learned, that titles are extremely important when it comes to grabbing Attention. A rule of thumbs tells us that titles should have about 5 words."
      ]
    },
    {
      "cell_type": "code",
      "metadata": {
        "execution": {
          "iopub.execute_input": "2021-02-25T12:18:23.786484Z",
          "iopub.status.busy": "2021-02-25T12:18:23.785550Z",
          "iopub.status.idle": "2021-02-25T12:18:42.844522Z",
          "shell.execute_reply": "2021-02-25T12:18:42.843857Z"
        },
        "papermill": {
          "duration": 19.10804,
          "end_time": "2021-02-25T12:18:42.844665",
          "exception": false,
          "start_time": "2021-02-25T12:18:23.736625",
          "status": "completed"
        },
        "tags": [],
        "id": "I4dYbRJntTsb",
        "outputId": "19b7fd23-7a2f-48d2-81a1-965ddac00be8"
      },
      "source": [
        "def create_num_words_df(dataset):\n",
        "    return dataset.apply(lambda row: pd.Series({'num_words_title':len(row['title'].split())}), axis=1)\n",
        "\n",
        "num_words_train = create_num_words_df(train)\n",
        "num_words_test = create_num_words_df(test)\n",
        "\n",
        "num_words_train"
      ],
      "execution_count": null,
      "outputs": [
        {
          "output_type": "execute_result",
          "data": {
            "text/html": [
              "<div>\n",
              "<style scoped>\n",
              "    .dataframe tbody tr th:only-of-type {\n",
              "        vertical-align: middle;\n",
              "    }\n",
              "\n",
              "    .dataframe tbody tr th {\n",
              "        vertical-align: top;\n",
              "    }\n",
              "\n",
              "    .dataframe thead th {\n",
              "        text-align: right;\n",
              "    }\n",
              "</style>\n",
              "<table border=\"1\" class=\"dataframe\">\n",
              "  <thead>\n",
              "    <tr style=\"text-align: right;\">\n",
              "      <th></th>\n",
              "      <th>num_words_title</th>\n",
              "    </tr>\n",
              "  </thead>\n",
              "  <tbody>\n",
              "    <tr>\n",
              "      <th>36115</th>\n",
              "      <td>14</td>\n",
              "    </tr>\n",
              "    <tr>\n",
              "      <th>44800</th>\n",
              "      <td>12</td>\n",
              "    </tr>\n",
              "    <tr>\n",
              "      <th>33108</th>\n",
              "      <td>21</td>\n",
              "    </tr>\n",
              "    <tr>\n",
              "      <th>36535</th>\n",
              "      <td>7</td>\n",
              "    </tr>\n",
              "    <tr>\n",
              "      <th>15801</th>\n",
              "      <td>9</td>\n",
              "    </tr>\n",
              "    <tr>\n",
              "      <th>...</th>\n",
              "      <td>...</td>\n",
              "    </tr>\n",
              "    <tr>\n",
              "      <th>16562</th>\n",
              "      <td>12</td>\n",
              "    </tr>\n",
              "    <tr>\n",
              "      <th>5116</th>\n",
              "      <td>11</td>\n",
              "    </tr>\n",
              "    <tr>\n",
              "      <th>7782</th>\n",
              "      <td>8</td>\n",
              "    </tr>\n",
              "    <tr>\n",
              "      <th>33836</th>\n",
              "      <td>11</td>\n",
              "    </tr>\n",
              "    <tr>\n",
              "      <th>24001</th>\n",
              "      <td>17</td>\n",
              "    </tr>\n",
              "  </tbody>\n",
              "</table>\n",
              "<p>35918 rows × 1 columns</p>\n",
              "</div>"
            ],
            "text/plain": [
              "       num_words_title\n",
              "36115               14\n",
              "44800               12\n",
              "33108               21\n",
              "36535                7\n",
              "15801                9\n",
              "...                ...\n",
              "16562               12\n",
              "5116                11\n",
              "7782                 8\n",
              "33836               11\n",
              "24001               17\n",
              "\n",
              "[35918 rows x 1 columns]"
            ]
          },
          "metadata": {
            "tags": []
          },
          "execution_count": 21
        }
      ]
    },
    {
      "cell_type": "markdown",
      "metadata": {
        "papermill": {
          "duration": 0.047253,
          "end_time": "2021-02-25T12:18:42.940557",
          "exception": false,
          "start_time": "2021-02-25T12:18:42.893304",
          "status": "completed"
        },
        "tags": [],
        "id": "qFwqjfIwtTsb"
      },
      "source": [
        "## Lenght of Title Relative to the Length of the Article + Title\n",
        "One could assume that some attention grabbing Fake News have a long title and very short texts. Is that true?"
      ]
    },
    {
      "cell_type": "code",
      "metadata": {
        "execution": {
          "iopub.execute_input": "2021-02-25T12:18:43.075875Z",
          "iopub.status.busy": "2021-02-25T12:18:43.042619Z",
          "iopub.status.idle": "2021-02-25T12:19:01.910106Z",
          "shell.execute_reply": "2021-02-25T12:19:01.909227Z"
        },
        "papermill": {
          "duration": 18.922097,
          "end_time": "2021-02-25T12:19:01.910255",
          "exception": false,
          "start_time": "2021-02-25T12:18:42.988158",
          "status": "completed"
        },
        "tags": [],
        "colab": {
          "base_uri": "https://localhost:8080/",
          "height": 248
        },
        "id": "8nvs6HDftTsc",
        "outputId": "0157a4eb-ffae-4603-b9c0-3b872370d04a"
      },
      "source": [
        "def create_title_ratio_df(dataset):\n",
        "    return dataset.apply(lambda row: pd.Series({'title_ratio':len(row['title'])/(len(row['title']) + len(row['text']))}), axis=1)\n",
        "\n",
        "title_ratio_train = create_title_ratio_df(train)\n",
        "title_ratio_test = create_title_ratio_df(test)\n",
        "\n",
        "title_ratio_train"
      ],
      "execution_count": 2,
      "outputs": [
        {
          "output_type": "error",
          "ename": "NameError",
          "evalue": "ignored",
          "traceback": [
            "\u001b[0;31m---------------------------------------------------------------------------\u001b[0m",
            "\u001b[0;31mNameError\u001b[0m                                 Traceback (most recent call last)",
            "\u001b[0;32m<ipython-input-2-88f539d8e582>\u001b[0m in \u001b[0;36m<module>\u001b[0;34m()\u001b[0m\n\u001b[1;32m      2\u001b[0m     \u001b[0;32mreturn\u001b[0m \u001b[0mdataset\u001b[0m\u001b[0;34m.\u001b[0m\u001b[0mapply\u001b[0m\u001b[0;34m(\u001b[0m\u001b[0;32mlambda\u001b[0m \u001b[0mrow\u001b[0m\u001b[0;34m:\u001b[0m \u001b[0mpd\u001b[0m\u001b[0;34m.\u001b[0m\u001b[0mSeries\u001b[0m\u001b[0;34m(\u001b[0m\u001b[0;34m{\u001b[0m\u001b[0;34m'title_ratio'\u001b[0m\u001b[0;34m:\u001b[0m\u001b[0mlen\u001b[0m\u001b[0;34m(\u001b[0m\u001b[0mrow\u001b[0m\u001b[0;34m[\u001b[0m\u001b[0;34m'title'\u001b[0m\u001b[0;34m]\u001b[0m\u001b[0;34m)\u001b[0m\u001b[0;34m/\u001b[0m\u001b[0;34m(\u001b[0m\u001b[0mlen\u001b[0m\u001b[0;34m(\u001b[0m\u001b[0mrow\u001b[0m\u001b[0;34m[\u001b[0m\u001b[0;34m'title'\u001b[0m\u001b[0;34m]\u001b[0m\u001b[0;34m)\u001b[0m \u001b[0;34m+\u001b[0m \u001b[0mlen\u001b[0m\u001b[0;34m(\u001b[0m\u001b[0mrow\u001b[0m\u001b[0;34m[\u001b[0m\u001b[0;34m'text'\u001b[0m\u001b[0;34m]\u001b[0m\u001b[0;34m)\u001b[0m\u001b[0;34m)\u001b[0m\u001b[0;34m}\u001b[0m\u001b[0;34m)\u001b[0m\u001b[0;34m,\u001b[0m \u001b[0maxis\u001b[0m\u001b[0;34m=\u001b[0m\u001b[0;36m1\u001b[0m\u001b[0;34m)\u001b[0m\u001b[0;34m\u001b[0m\u001b[0;34m\u001b[0m\u001b[0m\n\u001b[1;32m      3\u001b[0m \u001b[0;34m\u001b[0m\u001b[0m\n\u001b[0;32m----> 4\u001b[0;31m \u001b[0mtitle_ratio_train\u001b[0m \u001b[0;34m=\u001b[0m \u001b[0mcreate_title_ratio_df\u001b[0m\u001b[0;34m(\u001b[0m\u001b[0mtrain\u001b[0m\u001b[0;34m)\u001b[0m\u001b[0;34m\u001b[0m\u001b[0;34m\u001b[0m\u001b[0m\n\u001b[0m\u001b[1;32m      5\u001b[0m \u001b[0mtitle_ratio_test\u001b[0m \u001b[0;34m=\u001b[0m \u001b[0mcreate_title_ratio_df\u001b[0m\u001b[0;34m(\u001b[0m\u001b[0mtest\u001b[0m\u001b[0;34m)\u001b[0m\u001b[0;34m\u001b[0m\u001b[0;34m\u001b[0m\u001b[0m\n\u001b[1;32m      6\u001b[0m \u001b[0;34m\u001b[0m\u001b[0m\n",
            "\u001b[0;31mNameError\u001b[0m: name 'train' is not defined"
          ]
        }
      ]
    },
    {
      "cell_type": "markdown",
      "metadata": {
        "papermill": {
          "duration": 0.048289,
          "end_time": "2021-02-25T12:19:02.005768",
          "exception": false,
          "start_time": "2021-02-25T12:19:01.957479",
          "status": "completed"
        },
        "tags": [],
        "id": "-SIS-NNhtTsd"
      },
      "source": [
        "## Concatenate the new Datasets"
      ]
    },
    {
      "cell_type": "code",
      "metadata": {
        "execution": {
          "iopub.execute_input": "2021-02-25T12:19:02.108571Z",
          "iopub.status.busy": "2021-02-25T12:19:02.107869Z",
          "iopub.status.idle": "2021-02-25T12:19:02.128670Z",
          "shell.execute_reply": "2021-02-25T12:19:02.129191Z"
        },
        "papermill": {
          "duration": 0.076028,
          "end_time": "2021-02-25T12:19:02.129365",
          "exception": false,
          "start_time": "2021-02-25T12:19:02.053337",
          "status": "completed"
        },
        "tags": [],
        "id": "aEYwPtaltTsd",
        "outputId": "b093f6f8-0829-469c-ba24-302304b5d83f"
      },
      "source": [
        "X_train_punct_len = pd.concat([punctuation_train_title, \n",
        "                               punctuation_train_text, \n",
        "                               len_train, \n",
        "                               num_words_train, \n",
        "                               title_ratio_train], \n",
        "                              axis=1)\n",
        "\n",
        "X_test_punct_len = pd.concat([punctuation_test_title, \n",
        "                              punctuation_test_text, \n",
        "                              len_test, \n",
        "                              num_words_test, \n",
        "                              title_ratio_test], \n",
        "                             axis=1)\n",
        "\n",
        "X_train_punct_len"
      ],
      "execution_count": null,
      "outputs": [
        {
          "output_type": "execute_result",
          "data": {
            "text/html": [
              "<div>\n",
              "<style scoped>\n",
              "    .dataframe tbody tr th:only-of-type {\n",
              "        vertical-align: middle;\n",
              "    }\n",
              "\n",
              "    .dataframe tbody tr th {\n",
              "        vertical-align: top;\n",
              "    }\n",
              "\n",
              "    .dataframe thead th {\n",
              "        text-align: right;\n",
              "    }\n",
              "</style>\n",
              "<table border=\"1\" class=\"dataframe\">\n",
              "  <thead>\n",
              "    <tr style=\"text-align: right;\">\n",
              "      <th></th>\n",
              "      <th>peri_title</th>\n",
              "      <th>comm_title</th>\n",
              "      <th>ques_title</th>\n",
              "      <th>excl_title</th>\n",
              "      <th>peri_text</th>\n",
              "      <th>comm_text</th>\n",
              "      <th>ques_text</th>\n",
              "      <th>excl_text</th>\n",
              "      <th>length_title</th>\n",
              "      <th>length_text</th>\n",
              "      <th>num_words_title</th>\n",
              "      <th>title_ratio</th>\n",
              "    </tr>\n",
              "  </thead>\n",
              "  <tbody>\n",
              "    <tr>\n",
              "      <th>36115</th>\n",
              "      <td>0</td>\n",
              "      <td>0</td>\n",
              "      <td>0</td>\n",
              "      <td>1</td>\n",
              "      <td>28</td>\n",
              "      <td>19</td>\n",
              "      <td>0</td>\n",
              "      <td>1</td>\n",
              "      <td>85</td>\n",
              "      <td>1476</td>\n",
              "      <td>14</td>\n",
              "      <td>0.054452</td>\n",
              "    </tr>\n",
              "    <tr>\n",
              "      <th>44800</th>\n",
              "      <td>0</td>\n",
              "      <td>0</td>\n",
              "      <td>0</td>\n",
              "      <td>0</td>\n",
              "      <td>6</td>\n",
              "      <td>11</td>\n",
              "      <td>0</td>\n",
              "      <td>3</td>\n",
              "      <td>65</td>\n",
              "      <td>1269</td>\n",
              "      <td>12</td>\n",
              "      <td>0.048726</td>\n",
              "    </tr>\n",
              "    <tr>\n",
              "      <th>33108</th>\n",
              "      <td>1</td>\n",
              "      <td>0</td>\n",
              "      <td>0</td>\n",
              "      <td>1</td>\n",
              "      <td>3</td>\n",
              "      <td>3</td>\n",
              "      <td>0</td>\n",
              "      <td>0</td>\n",
              "      <td>127</td>\n",
              "      <td>591</td>\n",
              "      <td>21</td>\n",
              "      <td>0.176880</td>\n",
              "    </tr>\n",
              "    <tr>\n",
              "      <th>36535</th>\n",
              "      <td>0</td>\n",
              "      <td>0</td>\n",
              "      <td>1</td>\n",
              "      <td>0</td>\n",
              "      <td>5</td>\n",
              "      <td>1</td>\n",
              "      <td>1</td>\n",
              "      <td>1</td>\n",
              "      <td>43</td>\n",
              "      <td>577</td>\n",
              "      <td>7</td>\n",
              "      <td>0.069355</td>\n",
              "    </tr>\n",
              "    <tr>\n",
              "      <th>15801</th>\n",
              "      <td>0</td>\n",
              "      <td>0</td>\n",
              "      <td>0</td>\n",
              "      <td>0</td>\n",
              "      <td>27</td>\n",
              "      <td>22</td>\n",
              "      <td>0</td>\n",
              "      <td>0</td>\n",
              "      <td>60</td>\n",
              "      <td>3354</td>\n",
              "      <td>9</td>\n",
              "      <td>0.017575</td>\n",
              "    </tr>\n",
              "    <tr>\n",
              "      <th>...</th>\n",
              "      <td>...</td>\n",
              "      <td>...</td>\n",
              "      <td>...</td>\n",
              "      <td>...</td>\n",
              "      <td>...</td>\n",
              "      <td>...</td>\n",
              "      <td>...</td>\n",
              "      <td>...</td>\n",
              "      <td>...</td>\n",
              "      <td>...</td>\n",
              "      <td>...</td>\n",
              "      <td>...</td>\n",
              "    </tr>\n",
              "    <tr>\n",
              "      <th>16562</th>\n",
              "      <td>0</td>\n",
              "      <td>1</td>\n",
              "      <td>0</td>\n",
              "      <td>0</td>\n",
              "      <td>24</td>\n",
              "      <td>27</td>\n",
              "      <td>0</td>\n",
              "      <td>0</td>\n",
              "      <td>77</td>\n",
              "      <td>2898</td>\n",
              "      <td>12</td>\n",
              "      <td>0.025882</td>\n",
              "    </tr>\n",
              "    <tr>\n",
              "      <th>5116</th>\n",
              "      <td>2</td>\n",
              "      <td>1</td>\n",
              "      <td>0</td>\n",
              "      <td>0</td>\n",
              "      <td>13</td>\n",
              "      <td>7</td>\n",
              "      <td>0</td>\n",
              "      <td>0</td>\n",
              "      <td>74</td>\n",
              "      <td>1857</td>\n",
              "      <td>11</td>\n",
              "      <td>0.038322</td>\n",
              "    </tr>\n",
              "    <tr>\n",
              "      <th>7782</th>\n",
              "      <td>0</td>\n",
              "      <td>1</td>\n",
              "      <td>0</td>\n",
              "      <td>0</td>\n",
              "      <td>32</td>\n",
              "      <td>29</td>\n",
              "      <td>0</td>\n",
              "      <td>0</td>\n",
              "      <td>63</td>\n",
              "      <td>4422</td>\n",
              "      <td>8</td>\n",
              "      <td>0.014047</td>\n",
              "    </tr>\n",
              "    <tr>\n",
              "      <th>33836</th>\n",
              "      <td>0</td>\n",
              "      <td>0</td>\n",
              "      <td>0</td>\n",
              "      <td>0</td>\n",
              "      <td>0</td>\n",
              "      <td>0</td>\n",
              "      <td>0</td>\n",
              "      <td>0</td>\n",
              "      <td>82</td>\n",
              "      <td>1</td>\n",
              "      <td>11</td>\n",
              "      <td>0.987952</td>\n",
              "    </tr>\n",
              "    <tr>\n",
              "      <th>24001</th>\n",
              "      <td>0</td>\n",
              "      <td>0</td>\n",
              "      <td>0</td>\n",
              "      <td>0</td>\n",
              "      <td>20</td>\n",
              "      <td>22</td>\n",
              "      <td>0</td>\n",
              "      <td>0</td>\n",
              "      <td>95</td>\n",
              "      <td>2152</td>\n",
              "      <td>17</td>\n",
              "      <td>0.042279</td>\n",
              "    </tr>\n",
              "  </tbody>\n",
              "</table>\n",
              "<p>35918 rows × 12 columns</p>\n",
              "</div>"
            ],
            "text/plain": [
              "       peri_title  comm_title  ques_title  excl_title  peri_text  comm_text  \\\n",
              "36115           0           0           0           1         28         19   \n",
              "44800           0           0           0           0          6         11   \n",
              "33108           1           0           0           1          3          3   \n",
              "36535           0           0           1           0          5          1   \n",
              "15801           0           0           0           0         27         22   \n",
              "...           ...         ...         ...         ...        ...        ...   \n",
              "16562           0           1           0           0         24         27   \n",
              "5116            2           1           0           0         13          7   \n",
              "7782            0           1           0           0         32         29   \n",
              "33836           0           0           0           0          0          0   \n",
              "24001           0           0           0           0         20         22   \n",
              "\n",
              "       ques_text  excl_text  length_title  length_text  num_words_title  \\\n",
              "36115          0          1            85         1476               14   \n",
              "44800          0          3            65         1269               12   \n",
              "33108          0          0           127          591               21   \n",
              "36535          1          1            43          577                7   \n",
              "15801          0          0            60         3354                9   \n",
              "...          ...        ...           ...          ...              ...   \n",
              "16562          0          0            77         2898               12   \n",
              "5116           0          0            74         1857               11   \n",
              "7782           0          0            63         4422                8   \n",
              "33836          0          0            82            1               11   \n",
              "24001          0          0            95         2152               17   \n",
              "\n",
              "       title_ratio  \n",
              "36115     0.054452  \n",
              "44800     0.048726  \n",
              "33108     0.176880  \n",
              "36535     0.069355  \n",
              "15801     0.017575  \n",
              "...            ...  \n",
              "16562     0.025882  \n",
              "5116      0.038322  \n",
              "7782      0.014047  \n",
              "33836     0.987952  \n",
              "24001     0.042279  \n",
              "\n",
              "[35918 rows x 12 columns]"
            ]
          },
          "metadata": {
            "tags": []
          },
          "execution_count": 23
        }
      ]
    },
    {
      "cell_type": "markdown",
      "metadata": {
        "papermill": {
          "duration": 0.047775,
          "end_time": "2021-02-25T12:19:02.225546",
          "exception": false,
          "start_time": "2021-02-25T12:19:02.177771",
          "status": "completed"
        },
        "tags": [],
        "id": "ZlM4iQFmtTse"
      },
      "source": [
        "# Investigate the Engineered Features"
      ]
    },
    {
      "cell_type": "code",
      "metadata": {
        "execution": {
          "iopub.execute_input": "2021-02-25T12:19:02.326540Z",
          "iopub.status.busy": "2021-02-25T12:19:02.325888Z",
          "iopub.status.idle": "2021-02-25T12:19:02.384712Z",
          "shell.execute_reply": "2021-02-25T12:19:02.384132Z"
        },
        "papermill": {
          "duration": 0.110312,
          "end_time": "2021-02-25T12:19:02.384863",
          "exception": false,
          "start_time": "2021-02-25T12:19:02.274551",
          "status": "completed"
        },
        "tags": [],
        "id": "9haYlPuEtTse",
        "outputId": "acf84ae8-4880-45b4-b871-497baaeccf8c"
      },
      "source": [
        "X_train_punct_len.describe()"
      ],
      "execution_count": null,
      "outputs": [
        {
          "output_type": "execute_result",
          "data": {
            "text/html": [
              "<div>\n",
              "<style scoped>\n",
              "    .dataframe tbody tr th:only-of-type {\n",
              "        vertical-align: middle;\n",
              "    }\n",
              "\n",
              "    .dataframe tbody tr th {\n",
              "        vertical-align: top;\n",
              "    }\n",
              "\n",
              "    .dataframe thead th {\n",
              "        text-align: right;\n",
              "    }\n",
              "</style>\n",
              "<table border=\"1\" class=\"dataframe\">\n",
              "  <thead>\n",
              "    <tr style=\"text-align: right;\">\n",
              "      <th></th>\n",
              "      <th>peri_title</th>\n",
              "      <th>comm_title</th>\n",
              "      <th>ques_title</th>\n",
              "      <th>excl_title</th>\n",
              "      <th>peri_text</th>\n",
              "      <th>comm_text</th>\n",
              "      <th>ques_text</th>\n",
              "      <th>excl_text</th>\n",
              "      <th>length_title</th>\n",
              "      <th>length_text</th>\n",
              "      <th>num_words_title</th>\n",
              "      <th>title_ratio</th>\n",
              "    </tr>\n",
              "  </thead>\n",
              "  <tbody>\n",
              "    <tr>\n",
              "      <th>count</th>\n",
              "      <td>35918.000000</td>\n",
              "      <td>35918.000000</td>\n",
              "      <td>35918.000000</td>\n",
              "      <td>35918.000000</td>\n",
              "      <td>35918.000000</td>\n",
              "      <td>35918.000000</td>\n",
              "      <td>35918.000000</td>\n",
              "      <td>35918.000000</td>\n",
              "      <td>35918.000000</td>\n",
              "      <td>35918.000000</td>\n",
              "      <td>35918.000000</td>\n",
              "      <td>35918.000000</td>\n",
              "    </tr>\n",
              "    <tr>\n",
              "      <th>mean</th>\n",
              "      <td>0.269920</td>\n",
              "      <td>0.225374</td>\n",
              "      <td>0.041567</td>\n",
              "      <td>0.081018</td>\n",
              "      <td>20.943928</td>\n",
              "      <td>20.258533</td>\n",
              "      <td>0.676819</td>\n",
              "      <td>0.410324</td>\n",
              "      <td>80.110613</td>\n",
              "      <td>2472.432457</td>\n",
              "      <td>12.449969</td>\n",
              "      <td>0.071556</td>\n",
              "    </tr>\n",
              "    <tr>\n",
              "      <th>std</th>\n",
              "      <td>0.694986</td>\n",
              "      <td>0.499536</td>\n",
              "      <td>0.212308</td>\n",
              "      <td>0.299894</td>\n",
              "      <td>18.436810</td>\n",
              "      <td>20.440653</td>\n",
              "      <td>1.820497</td>\n",
              "      <td>1.514863</td>\n",
              "      <td>25.327528</td>\n",
              "      <td>2193.414470</td>\n",
              "      <td>4.098040</td>\n",
              "      <td>0.135138</td>\n",
              "    </tr>\n",
              "    <tr>\n",
              "      <th>min</th>\n",
              "      <td>0.000000</td>\n",
              "      <td>0.000000</td>\n",
              "      <td>0.000000</td>\n",
              "      <td>0.000000</td>\n",
              "      <td>0.000000</td>\n",
              "      <td>0.000000</td>\n",
              "      <td>0.000000</td>\n",
              "      <td>0.000000</td>\n",
              "      <td>8.000000</td>\n",
              "      <td>1.000000</td>\n",
              "      <td>1.000000</td>\n",
              "      <td>0.000583</td>\n",
              "    </tr>\n",
              "    <tr>\n",
              "      <th>25%</th>\n",
              "      <td>0.000000</td>\n",
              "      <td>0.000000</td>\n",
              "      <td>0.000000</td>\n",
              "      <td>0.000000</td>\n",
              "      <td>10.000000</td>\n",
              "      <td>8.000000</td>\n",
              "      <td>0.000000</td>\n",
              "      <td>0.000000</td>\n",
              "      <td>63.000000</td>\n",
              "      <td>1239.000000</td>\n",
              "      <td>10.000000</td>\n",
              "      <td>0.023314</td>\n",
              "    </tr>\n",
              "    <tr>\n",
              "      <th>50%</th>\n",
              "      <td>0.000000</td>\n",
              "      <td>0.000000</td>\n",
              "      <td>0.000000</td>\n",
              "      <td>0.000000</td>\n",
              "      <td>18.000000</td>\n",
              "      <td>17.000000</td>\n",
              "      <td>0.000000</td>\n",
              "      <td>0.000000</td>\n",
              "      <td>73.000000</td>\n",
              "      <td>2186.000000</td>\n",
              "      <td>11.000000</td>\n",
              "      <td>0.034850</td>\n",
              "    </tr>\n",
              "    <tr>\n",
              "      <th>75%</th>\n",
              "      <td>0.000000</td>\n",
              "      <td>0.000000</td>\n",
              "      <td>0.000000</td>\n",
              "      <td>0.000000</td>\n",
              "      <td>27.000000</td>\n",
              "      <td>27.000000</td>\n",
              "      <td>1.000000</td>\n",
              "      <td>0.000000</td>\n",
              "      <td>91.000000</td>\n",
              "      <td>3102.000000</td>\n",
              "      <td>14.000000</td>\n",
              "      <td>0.063622</td>\n",
              "    </tr>\n",
              "    <tr>\n",
              "      <th>max</th>\n",
              "      <td>6.000000</td>\n",
              "      <td>5.000000</td>\n",
              "      <td>3.000000</td>\n",
              "      <td>4.000000</td>\n",
              "      <td>555.000000</td>\n",
              "      <td>518.000000</td>\n",
              "      <td>94.000000</td>\n",
              "      <td>133.000000</td>\n",
              "      <td>286.000000</td>\n",
              "      <td>51794.000000</td>\n",
              "      <td>42.000000</td>\n",
              "      <td>0.995556</td>\n",
              "    </tr>\n",
              "  </tbody>\n",
              "</table>\n",
              "</div>"
            ],
            "text/plain": [
              "         peri_title    comm_title    ques_title    excl_title     peri_text  \\\n",
              "count  35918.000000  35918.000000  35918.000000  35918.000000  35918.000000   \n",
              "mean       0.269920      0.225374      0.041567      0.081018     20.943928   \n",
              "std        0.694986      0.499536      0.212308      0.299894     18.436810   \n",
              "min        0.000000      0.000000      0.000000      0.000000      0.000000   \n",
              "25%        0.000000      0.000000      0.000000      0.000000     10.000000   \n",
              "50%        0.000000      0.000000      0.000000      0.000000     18.000000   \n",
              "75%        0.000000      0.000000      0.000000      0.000000     27.000000   \n",
              "max        6.000000      5.000000      3.000000      4.000000    555.000000   \n",
              "\n",
              "          comm_text     ques_text     excl_text  length_title   length_text  \\\n",
              "count  35918.000000  35918.000000  35918.000000  35918.000000  35918.000000   \n",
              "mean      20.258533      0.676819      0.410324     80.110613   2472.432457   \n",
              "std       20.440653      1.820497      1.514863     25.327528   2193.414470   \n",
              "min        0.000000      0.000000      0.000000      8.000000      1.000000   \n",
              "25%        8.000000      0.000000      0.000000     63.000000   1239.000000   \n",
              "50%       17.000000      0.000000      0.000000     73.000000   2186.000000   \n",
              "75%       27.000000      1.000000      0.000000     91.000000   3102.000000   \n",
              "max      518.000000     94.000000    133.000000    286.000000  51794.000000   \n",
              "\n",
              "       num_words_title   title_ratio  \n",
              "count     35918.000000  35918.000000  \n",
              "mean         12.449969      0.071556  \n",
              "std           4.098040      0.135138  \n",
              "min           1.000000      0.000583  \n",
              "25%          10.000000      0.023314  \n",
              "50%          11.000000      0.034850  \n",
              "75%          14.000000      0.063622  \n",
              "max          42.000000      0.995556  "
            ]
          },
          "metadata": {
            "tags": []
          },
          "execution_count": 24
        }
      ]
    },
    {
      "cell_type": "markdown",
      "metadata": {
        "papermill": {
          "duration": 0.048743,
          "end_time": "2021-02-25T12:19:02.482652",
          "exception": false,
          "start_time": "2021-02-25T12:19:02.433909",
          "status": "completed"
        },
        "tags": [],
        "id": "toVkT8agtTsf"
      },
      "source": [
        "* Many Titles don't contain any form of `punctuation`!\n",
        "\n",
        "* Some texts contain suspiciously small amounts of characters. At least one of them contains only 1 chars\n",
        "\n",
        "Let's remove some extreme outliers!"
      ]
    },
    {
      "cell_type": "code",
      "metadata": {
        "execution": {
          "iopub.execute_input": "2021-02-25T12:19:02.587529Z",
          "iopub.status.busy": "2021-02-25T12:19:02.586282Z",
          "iopub.status.idle": "2021-02-25T12:19:02.606472Z",
          "shell.execute_reply": "2021-02-25T12:19:02.605919Z"
        },
        "papermill": {
          "duration": 0.075296,
          "end_time": "2021-02-25T12:19:02.606617",
          "exception": false,
          "start_time": "2021-02-25T12:19:02.531321",
          "status": "completed"
        },
        "tags": [],
        "id": "GZblxnkStTsf"
      },
      "source": [
        "from scipy import stats\n",
        "X_train_punct_len_zscore = X_train_punct_len.apply(stats.zscore, axis=0)\n",
        "mask_outliers = np.logical_not(((X_train_punct_len_zscore>5).any(axis=1)).values + ((X_train_punct_len_zscore<-5).any(axis=1)).values)\n",
        "X_train_punct_len = X_train_punct_len.loc[mask_outliers,:]\n",
        "y_train = y_train[X_train_punct_len.index]"
      ],
      "execution_count": null,
      "outputs": []
    },
    {
      "cell_type": "markdown",
      "metadata": {
        "papermill": {
          "duration": 0.048057,
          "end_time": "2021-02-25T12:19:02.703640",
          "exception": false,
          "start_time": "2021-02-25T12:19:02.655583",
          "status": "completed"
        },
        "tags": [],
        "id": "5onnK44HtTsg"
      },
      "source": [
        "How does our data look like now?"
      ]
    },
    {
      "cell_type": "code",
      "metadata": {
        "execution": {
          "iopub.execute_input": "2021-02-25T12:19:02.809639Z",
          "iopub.status.busy": "2021-02-25T12:19:02.808538Z",
          "iopub.status.idle": "2021-02-25T12:19:02.862245Z",
          "shell.execute_reply": "2021-02-25T12:19:02.861680Z"
        },
        "papermill": {
          "duration": 0.110333,
          "end_time": "2021-02-25T12:19:02.862406",
          "exception": false,
          "start_time": "2021-02-25T12:19:02.752073",
          "status": "completed"
        },
        "tags": [],
        "id": "-w69oKWntTsg",
        "outputId": "a6cf9424-ba0a-4006-9101-56fb3643737d"
      },
      "source": [
        "X_train_punct_len.describe()"
      ],
      "execution_count": null,
      "outputs": [
        {
          "output_type": "execute_result",
          "data": {
            "text/html": [
              "<div>\n",
              "<style scoped>\n",
              "    .dataframe tbody tr th:only-of-type {\n",
              "        vertical-align: middle;\n",
              "    }\n",
              "\n",
              "    .dataframe tbody tr th {\n",
              "        vertical-align: top;\n",
              "    }\n",
              "\n",
              "    .dataframe thead th {\n",
              "        text-align: right;\n",
              "    }\n",
              "</style>\n",
              "<table border=\"1\" class=\"dataframe\">\n",
              "  <thead>\n",
              "    <tr style=\"text-align: right;\">\n",
              "      <th></th>\n",
              "      <th>peri_title</th>\n",
              "      <th>comm_title</th>\n",
              "      <th>ques_title</th>\n",
              "      <th>excl_title</th>\n",
              "      <th>peri_text</th>\n",
              "      <th>comm_text</th>\n",
              "      <th>ques_text</th>\n",
              "      <th>excl_text</th>\n",
              "      <th>length_title</th>\n",
              "      <th>length_text</th>\n",
              "      <th>num_words_title</th>\n",
              "      <th>title_ratio</th>\n",
              "    </tr>\n",
              "  </thead>\n",
              "  <tbody>\n",
              "    <tr>\n",
              "      <th>count</th>\n",
              "      <td>34225.000000</td>\n",
              "      <td>34225.000000</td>\n",
              "      <td>34225.000000</td>\n",
              "      <td>34225.000000</td>\n",
              "      <td>34225.000000</td>\n",
              "      <td>34225.000000</td>\n",
              "      <td>34225.000000</td>\n",
              "      <td>34225.000000</td>\n",
              "      <td>34225.000000</td>\n",
              "      <td>34225.000000</td>\n",
              "      <td>34225.000000</td>\n",
              "      <td>34225.000000</td>\n",
              "    </tr>\n",
              "    <tr>\n",
              "      <th>mean</th>\n",
              "      <td>0.262732</td>\n",
              "      <td>0.214697</td>\n",
              "      <td>0.035121</td>\n",
              "      <td>0.060424</td>\n",
              "      <td>20.380131</td>\n",
              "      <td>19.530723</td>\n",
              "      <td>0.576450</td>\n",
              "      <td>0.326311</td>\n",
              "      <td>79.139606</td>\n",
              "      <td>2399.440760</td>\n",
              "      <td>12.293674</td>\n",
              "      <td>0.057091</td>\n",
              "    </tr>\n",
              "    <tr>\n",
              "      <th>std</th>\n",
              "      <td>0.665018</td>\n",
              "      <td>0.461984</td>\n",
              "      <td>0.184087</td>\n",
              "      <td>0.238274</td>\n",
              "      <td>14.490819</td>\n",
              "      <td>15.091181</td>\n",
              "      <td>1.258401</td>\n",
              "      <td>0.891098</td>\n",
              "      <td>24.217369</td>\n",
              "      <td>1606.926843</td>\n",
              "      <td>3.913157</td>\n",
              "      <td>0.072461</td>\n",
              "    </tr>\n",
              "    <tr>\n",
              "      <th>min</th>\n",
              "      <td>0.000000</td>\n",
              "      <td>0.000000</td>\n",
              "      <td>0.000000</td>\n",
              "      <td>0.000000</td>\n",
              "      <td>0.000000</td>\n",
              "      <td>0.000000</td>\n",
              "      <td>0.000000</td>\n",
              "      <td>0.000000</td>\n",
              "      <td>8.000000</td>\n",
              "      <td>23.000000</td>\n",
              "      <td>1.000000</td>\n",
              "      <td>0.003235</td>\n",
              "    </tr>\n",
              "    <tr>\n",
              "      <th>25%</th>\n",
              "      <td>0.000000</td>\n",
              "      <td>0.000000</td>\n",
              "      <td>0.000000</td>\n",
              "      <td>0.000000</td>\n",
              "      <td>10.000000</td>\n",
              "      <td>9.000000</td>\n",
              "      <td>0.000000</td>\n",
              "      <td>0.000000</td>\n",
              "      <td>63.000000</td>\n",
              "      <td>1295.000000</td>\n",
              "      <td>10.000000</td>\n",
              "      <td>0.023296</td>\n",
              "    </tr>\n",
              "    <tr>\n",
              "      <th>50%</th>\n",
              "      <td>0.000000</td>\n",
              "      <td>0.000000</td>\n",
              "      <td>0.000000</td>\n",
              "      <td>0.000000</td>\n",
              "      <td>18.000000</td>\n",
              "      <td>17.000000</td>\n",
              "      <td>0.000000</td>\n",
              "      <td>0.000000</td>\n",
              "      <td>73.000000</td>\n",
              "      <td>2198.000000</td>\n",
              "      <td>11.000000</td>\n",
              "      <td>0.034503</td>\n",
              "    </tr>\n",
              "    <tr>\n",
              "      <th>75%</th>\n",
              "      <td>0.000000</td>\n",
              "      <td>0.000000</td>\n",
              "      <td>0.000000</td>\n",
              "      <td>0.000000</td>\n",
              "      <td>27.000000</td>\n",
              "      <td>26.000000</td>\n",
              "      <td>1.000000</td>\n",
              "      <td>0.000000</td>\n",
              "      <td>90.000000</td>\n",
              "      <td>3079.000000</td>\n",
              "      <td>14.000000</td>\n",
              "      <td>0.060679</td>\n",
              "    </tr>\n",
              "    <tr>\n",
              "      <th>max</th>\n",
              "      <td>3.000000</td>\n",
              "      <td>2.000000</td>\n",
              "      <td>1.000000</td>\n",
              "      <td>1.000000</td>\n",
              "      <td>111.000000</td>\n",
              "      <td>122.000000</td>\n",
              "      <td>9.000000</td>\n",
              "      <td>7.000000</td>\n",
              "      <td>206.000000</td>\n",
              "      <td>12985.000000</td>\n",
              "      <td>32.000000</td>\n",
              "      <td>0.745562</td>\n",
              "    </tr>\n",
              "  </tbody>\n",
              "</table>\n",
              "</div>"
            ],
            "text/plain": [
              "         peri_title    comm_title    ques_title    excl_title     peri_text  \\\n",
              "count  34225.000000  34225.000000  34225.000000  34225.000000  34225.000000   \n",
              "mean       0.262732      0.214697      0.035121      0.060424     20.380131   \n",
              "std        0.665018      0.461984      0.184087      0.238274     14.490819   \n",
              "min        0.000000      0.000000      0.000000      0.000000      0.000000   \n",
              "25%        0.000000      0.000000      0.000000      0.000000     10.000000   \n",
              "50%        0.000000      0.000000      0.000000      0.000000     18.000000   \n",
              "75%        0.000000      0.000000      0.000000      0.000000     27.000000   \n",
              "max        3.000000      2.000000      1.000000      1.000000    111.000000   \n",
              "\n",
              "          comm_text     ques_text     excl_text  length_title   length_text  \\\n",
              "count  34225.000000  34225.000000  34225.000000  34225.000000  34225.000000   \n",
              "mean      19.530723      0.576450      0.326311     79.139606   2399.440760   \n",
              "std       15.091181      1.258401      0.891098     24.217369   1606.926843   \n",
              "min        0.000000      0.000000      0.000000      8.000000     23.000000   \n",
              "25%        9.000000      0.000000      0.000000     63.000000   1295.000000   \n",
              "50%       17.000000      0.000000      0.000000     73.000000   2198.000000   \n",
              "75%       26.000000      1.000000      0.000000     90.000000   3079.000000   \n",
              "max      122.000000      9.000000      7.000000    206.000000  12985.000000   \n",
              "\n",
              "       num_words_title   title_ratio  \n",
              "count     34225.000000  34225.000000  \n",
              "mean         12.293674      0.057091  \n",
              "std           3.913157      0.072461  \n",
              "min           1.000000      0.003235  \n",
              "25%          10.000000      0.023296  \n",
              "50%          11.000000      0.034503  \n",
              "75%          14.000000      0.060679  \n",
              "max          32.000000      0.745562  "
            ]
          },
          "metadata": {
            "tags": []
          },
          "execution_count": 26
        }
      ]
    },
    {
      "cell_type": "markdown",
      "metadata": {
        "papermill": {
          "duration": 0.050062,
          "end_time": "2021-02-25T12:19:02.963679",
          "exception": false,
          "start_time": "2021-02-25T12:19:02.913617",
          "status": "completed"
        },
        "tags": [],
        "id": "GSuMfqnPtTsh"
      },
      "source": [
        "## How do they interact with each other?"
      ]
    },
    {
      "cell_type": "code",
      "metadata": {
        "execution": {
          "iopub.execute_input": "2021-02-25T12:19:03.070597Z",
          "iopub.status.busy": "2021-02-25T12:19:03.069970Z",
          "iopub.status.idle": "2021-02-25T12:19:04.888029Z",
          "shell.execute_reply": "2021-02-25T12:19:04.888567Z"
        },
        "papermill": {
          "duration": 1.874092,
          "end_time": "2021-02-25T12:19:04.888740",
          "exception": false,
          "start_time": "2021-02-25T12:19:03.014648",
          "status": "completed"
        },
        "tags": [],
        "id": "4hfQG7fitTsh",
        "outputId": "7ddce6d0-3f4a-4faf-b523-33106223bf65"
      },
      "source": [
        "import seaborn as sns\n",
        "fig, ax = plt.subplots(figsize=(8,6))\n",
        "sns.heatmap(np.abs(X_train_punct_len.corr()), annot=True)\n",
        "plt.savefig('correlation')\n",
        "plt.show()"
      ],
      "execution_count": null,
      "outputs": [
        {
          "output_type": "display_data",
          "data": {
            "image/png": "[encoded data removed]",
            "text/plain": [
              "<Figure size 576x432 with 2 Axes>"
            ]
          },
          "metadata": {
            "tags": [],
            "needs_background": "light"
          }
        }
      ]
    },
    {
      "cell_type": "markdown",
      "metadata": {
        "papermill": {
          "duration": 0.05239,
          "end_time": "2021-02-25T12:19:04.994002",
          "exception": false,
          "start_time": "2021-02-25T12:19:04.941612",
          "status": "completed"
        },
        "tags": [],
        "id": "khp2FVZdtTsh"
      },
      "source": [
        "* huge correlation between `peri_text` and `length_text`\n",
        "\n",
        "* huge correlation between `comm_text` and `length_text`\n",
        "\n",
        "* huge correlation between `comm_text` and `peri_text`\n",
        "\n",
        "* huge correlation between `peri_test` and `num_words_text`\n",
        "\n",
        "...and so on\n",
        "\n",
        "We have to find out how they interact with the target to determine what to do with them."
      ]
    },
    {
      "cell_type": "markdown",
      "metadata": {
        "papermill": {
          "duration": 0.052854,
          "end_time": "2021-02-25T12:19:05.099936",
          "exception": false,
          "start_time": "2021-02-25T12:19:05.047082",
          "status": "completed"
        },
        "tags": [],
        "id": "0wkJBqWstTsi"
      },
      "source": [
        "## How do they Interact with the Target?"
      ]
    },
    {
      "cell_type": "code",
      "metadata": {
        "execution": {
          "iopub.execute_input": "2021-02-25T12:19:05.214646Z",
          "iopub.status.busy": "2021-02-25T12:19:05.213231Z",
          "iopub.status.idle": "2021-02-25T12:19:05.236926Z",
          "shell.execute_reply": "2021-02-25T12:19:05.236352Z"
        },
        "papermill": {
          "duration": 0.084389,
          "end_time": "2021-02-25T12:19:05.237074",
          "exception": false,
          "start_time": "2021-02-25T12:19:05.152685",
          "status": "completed"
        },
        "tags": [],
        "id": "juaWQTtktTsi",
        "outputId": "fb32b665-5852-4e95-b03d-d25e939ed798"
      },
      "source": [
        "pd.concat([X_train_punct_len, y_train], axis=1).groupby('is_fake').mean()"
      ],
      "execution_count": null,
      "outputs": [
        {
          "output_type": "execute_result",
          "data": {
            "text/html": [
              "<div>\n",
              "<style scoped>\n",
              "    .dataframe tbody tr th:only-of-type {\n",
              "        vertical-align: middle;\n",
              "    }\n",
              "\n",
              "    .dataframe tbody tr th {\n",
              "        vertical-align: top;\n",
              "    }\n",
              "\n",
              "    .dataframe thead th {\n",
              "        text-align: right;\n",
              "    }\n",
              "</style>\n",
              "<table border=\"1\" class=\"dataframe\">\n",
              "  <thead>\n",
              "    <tr style=\"text-align: right;\">\n",
              "      <th></th>\n",
              "      <th>peri_title</th>\n",
              "      <th>comm_title</th>\n",
              "      <th>ques_title</th>\n",
              "      <th>excl_title</th>\n",
              "      <th>peri_text</th>\n",
              "      <th>comm_text</th>\n",
              "      <th>ques_text</th>\n",
              "      <th>excl_text</th>\n",
              "      <th>length_title</th>\n",
              "      <th>length_text</th>\n",
              "      <th>num_words_title</th>\n",
              "      <th>title_ratio</th>\n",
              "    </tr>\n",
              "    <tr>\n",
              "      <th>is_fake</th>\n",
              "      <th></th>\n",
              "      <th></th>\n",
              "      <th></th>\n",
              "      <th></th>\n",
              "      <th></th>\n",
              "      <th></th>\n",
              "      <th></th>\n",
              "      <th></th>\n",
              "      <th></th>\n",
              "      <th></th>\n",
              "      <th></th>\n",
              "      <th></th>\n",
              "    </tr>\n",
              "  </thead>\n",
              "  <tbody>\n",
              "    <tr>\n",
              "      <th>0</th>\n",
              "      <td>0.441641</td>\n",
              "      <td>0.244312</td>\n",
              "      <td>0.006324</td>\n",
              "      <td>0.000768</td>\n",
              "      <td>20.726257</td>\n",
              "      <td>19.261509</td>\n",
              "      <td>0.093671</td>\n",
              "      <td>0.055257</td>\n",
              "      <td>64.600437</td>\n",
              "      <td>2366.637965</td>\n",
              "      <td>9.941316</td>\n",
              "      <td>0.048417</td>\n",
              "    </tr>\n",
              "    <tr>\n",
              "      <th>1</th>\n",
              "      <td>0.087783</td>\n",
              "      <td>0.185737</td>\n",
              "      <td>0.063280</td>\n",
              "      <td>0.118759</td>\n",
              "      <td>20.041667</td>\n",
              "      <td>19.793978</td>\n",
              "      <td>1.048544</td>\n",
              "      <td>0.591366</td>\n",
              "      <td>93.356969</td>\n",
              "      <td>2431.517510</td>\n",
              "      <td>14.593967</td>\n",
              "      <td>0.065573</td>\n",
              "    </tr>\n",
              "  </tbody>\n",
              "</table>\n",
              "</div>"
            ],
            "text/plain": [
              "         peri_title  comm_title  ques_title  excl_title  peri_text  comm_text  \\\n",
              "is_fake                                                                         \n",
              "0          0.441641    0.244312    0.006324    0.000768  20.726257  19.261509   \n",
              "1          0.087783    0.185737    0.063280    0.118759  20.041667  19.793978   \n",
              "\n",
              "         ques_text  excl_text  length_title  length_text  num_words_title  \\\n",
              "is_fake                                                                     \n",
              "0         0.093671   0.055257     64.600437  2366.637965         9.941316   \n",
              "1         1.048544   0.591366     93.356969  2431.517510        14.593967   \n",
              "\n",
              "         title_ratio  \n",
              "is_fake               \n",
              "0           0.048417  \n",
              "1           0.065573  "
            ]
          },
          "metadata": {
            "tags": []
          },
          "execution_count": 28
        }
      ]
    },
    {
      "cell_type": "markdown",
      "metadata": {
        "papermill": {
          "duration": 0.052533,
          "end_time": "2021-02-25T12:19:05.342852",
          "exception": false,
          "start_time": "2021-02-25T12:19:05.290319",
          "status": "completed"
        },
        "tags": [],
        "id": "OL_Ta6uptTsj"
      },
      "source": [
        "**Main Findings:**\n",
        "* Titles of Fake News contain ~4 times less `periods`\n",
        "\n",
        "* Titles of Fake News contain ~10 times more `question marks`\n",
        "\n",
        "* Titles of Fake News contain ~130 times more `exclamation marks` **(wow!)**\n",
        "\n",
        "* Texts of Fake News contain ~10 times more `question marks` \n",
        "\n",
        "* Texts of Fake News contain ~10 times more `exclamation marks`\n",
        "\n",
        "* Titles of Fake News are 50% `longer`. The number of words seems to reflect that fact as well. -> The length of words in the titles of Fake News and real News don't seem to vary a lot.\n",
        "\n",
        "* $\\frac{len(title)}{len(title) + len(text)}$ is ~40% longer in Fake News\n",
        "\n",
        "* Let's ignore the high correlations we found above. A more elaborate approach would be to eliminate correlating features by dropping them or using dimensionality reduction like PCA"
      ]
    },
    {
      "cell_type": "markdown",
      "metadata": {
        "papermill": {
          "duration": 0.052409,
          "end_time": "2021-02-25T12:19:05.448041",
          "exception": false,
          "start_time": "2021-02-25T12:19:05.395632",
          "status": "completed"
        },
        "tags": [],
        "id": "Fw0upsuMtTsj"
      },
      "source": [
        "# A Simple Model based on Punctuation and Text Length\n",
        "Let's use a default RandomForest for our classification!"
      ]
    },
    {
      "cell_type": "code",
      "metadata": {
        "execution": {
          "iopub.execute_input": "2021-02-25T12:19:05.557038Z",
          "iopub.status.busy": "2021-02-25T12:19:05.556433Z",
          "iopub.status.idle": "2021-02-25T12:19:24.757974Z",
          "shell.execute_reply": "2021-02-25T12:19:24.757404Z"
        },
        "papermill": {
          "duration": 19.257192,
          "end_time": "2021-02-25T12:19:24.758125",
          "exception": false,
          "start_time": "2021-02-25T12:19:05.500933",
          "status": "completed"
        },
        "tags": [],
        "id": "dvsbMbjDtTsj",
        "outputId": "c3f4eea2-710c-45f8-c5fd-e9285f373482"
      },
      "source": [
        "from sklearn.model_selection import cross_val_predict\n",
        "from sklearn.metrics import f1_score\n",
        "from sklearn.metrics import accuracy_score\n",
        "from sklearn.ensemble import RandomForestClassifier\n",
        "rf = RandomForestClassifier(random_state=42)\n",
        "preds = cross_val_predict(rf, X_train_punct_len, y_train, cv=5)\n",
        "f1 = f1_score(y_true=y_train, y_pred=preds)\n",
        "acc = accuracy_score(y_true=y_train, y_pred=preds)\n",
        "print(f'f1: {f1}\\nacc: {acc}')"
      ],
      "execution_count": null,
      "outputs": [
        {
          "output_type": "stream",
          "text": [
            "f1: 0.9240665477617613\n",
            "acc: 0.9241197954711469\n"
          ],
          "name": "stdout"
        }
      ]
    },
    {
      "cell_type": "markdown",
      "metadata": {
        "papermill": {
          "duration": 0.053195,
          "end_time": "2021-02-25T12:19:24.865229",
          "exception": false,
          "start_time": "2021-02-25T12:19:24.812034",
          "status": "completed"
        },
        "tags": [],
        "id": "V7DwBpTFtTsk"
      },
      "source": [
        "These are already pretty nice results on train! What are the most `important features`?"
      ]
    },
    {
      "cell_type": "code",
      "metadata": {
        "execution": {
          "iopub.execute_input": "2021-02-25T12:19:24.980184Z",
          "iopub.status.busy": "2021-02-25T12:19:24.979077Z",
          "iopub.status.idle": "2021-02-25T12:19:29.723422Z",
          "shell.execute_reply": "2021-02-25T12:19:29.724162Z"
        },
        "papermill": {
          "duration": 4.805634,
          "end_time": "2021-02-25T12:19:29.724407",
          "exception": false,
          "start_time": "2021-02-25T12:19:24.918773",
          "status": "completed"
        },
        "tags": [],
        "id": "xOJ8AL_-tTsk",
        "outputId": "cc5b249a-1fee-4dc5-8230-5d5eda044174"
      },
      "source": [
        "rf.fit(X_train_punct_len, y_train)\n",
        "pd.Series(rf.feature_importances_, \n",
        "          index=X_train_punct_len.columns).sort_values(ascending=False)"
      ],
      "execution_count": null,
      "outputs": [
        {
          "output_type": "execute_result",
          "data": {
            "text/plain": [
              "length_title       0.306129\n",
              "num_words_title    0.172643\n",
              "ques_text          0.112475\n",
              "title_ratio        0.093377\n",
              "length_text        0.087072\n",
              "excl_text          0.053744\n",
              "peri_text          0.050766\n",
              "comm_text          0.050166\n",
              "peri_title         0.035642\n",
              "excl_title         0.020598\n",
              "comm_title         0.011335\n",
              "ques_title         0.006053\n",
              "dtype: float64"
            ]
          },
          "metadata": {
            "tags": []
          },
          "execution_count": 30
        }
      ]
    },
    {
      "cell_type": "markdown",
      "metadata": {
        "papermill": {
          "duration": 0.058787,
          "end_time": "2021-02-25T12:19:29.846781",
          "exception": false,
          "start_time": "2021-02-25T12:19:29.787994",
          "status": "completed"
        },
        "tags": [],
        "id": "mSY-OHy6tTsl"
      },
      "source": [
        "Interestingly, the length of the title is way more important than e.g. `excl_title`, even though the relation between the target and `excl_title` is way stronger. This is most likely the case because only a few titles contain exclamation marks."
      ]
    },
    {
      "cell_type": "markdown",
      "metadata": {
        "papermill": {
          "duration": 0.053886,
          "end_time": "2021-02-25T12:19:29.954936",
          "exception": false,
          "start_time": "2021-02-25T12:19:29.901050",
          "status": "completed"
        },
        "tags": [],
        "id": "pNgRIxLetTsl"
      },
      "source": [
        "## Finetune the model"
      ]
    },
    {
      "cell_type": "code",
      "metadata": {
        "execution": {
          "iopub.execute_input": "2021-02-25T12:19:30.072562Z",
          "iopub.status.busy": "2021-02-25T12:19:30.071570Z",
          "iopub.status.idle": "2021-02-25T12:31:09.974559Z",
          "shell.execute_reply": "2021-02-25T12:31:09.975066Z"
        },
        "papermill": {
          "duration": 699.964964,
          "end_time": "2021-02-25T12:31:09.975244",
          "exception": false,
          "start_time": "2021-02-25T12:19:30.010280",
          "status": "completed"
        },
        "tags": [],
        "id": "zFk3nruQtTsl",
        "outputId": "7b4750e3-1676-40da-f5b3-a0acfa3a3418"
      },
      "source": [
        "from sklearn.model_selection import GridSearchCV\n",
        "params= {'n_estimators':[200, 300],\n",
        "        'criterion':['gini', 'entropy'],\n",
        "        'max_depth':[5, None],\n",
        "        'max_features':[2,5]}\n",
        "gscv = GridSearchCV(rf, params)\n",
        "gscv.fit(X_train_punct_len, y_train)\n",
        "gscv.best_params_"
      ],
      "execution_count": null,
      "outputs": [
        {
          "output_type": "execute_result",
          "data": {
            "text/plain": [
              "{'criterion': 'gini',\n",
              " 'max_depth': None,\n",
              " 'max_features': 2,\n",
              " 'n_estimators': 300}"
            ]
          },
          "metadata": {
            "tags": []
          },
          "execution_count": 31
        }
      ]
    },
    {
      "cell_type": "code",
      "metadata": {
        "execution": {
          "iopub.execute_input": "2021-02-25T12:31:10.094966Z",
          "iopub.status.busy": "2021-02-25T12:31:10.094245Z",
          "iopub.status.idle": "2021-02-25T12:31:49.840869Z",
          "shell.execute_reply": "2021-02-25T12:31:49.841652Z"
        },
        "papermill": {
          "duration": 39.810602,
          "end_time": "2021-02-25T12:31:49.841901",
          "exception": false,
          "start_time": "2021-02-25T12:31:10.031299",
          "status": "completed"
        },
        "tags": [],
        "id": "1SZ3KxMHtTsm",
        "outputId": "ca88e8bf-247f-4466-bc90-08999550d64b"
      },
      "source": [
        "rf_tuned = RandomForestClassifier(criterion='entropy', max_depth=None, max_features=2, n_estimators=200, random_state=42)\n",
        "preds = cross_val_predict(rf_tuned, X_train_punct_len, y_train, cv=5)\n",
        "f1 = f1_score(y_true=y_train, y_pred=preds)\n",
        "acc = accuracy_score(y_true=y_train, y_pred=preds)\n",
        "print(f'f1: {f1}\\nacc: {acc}')"
      ],
      "execution_count": null,
      "outputs": [
        {
          "output_type": "stream",
          "text": [
            "f1: 0.9252473218989639\n",
            "acc: 0.9253761869978087\n"
          ],
          "name": "stdout"
        }
      ]
    },
    {
      "cell_type": "code",
      "metadata": {
        "execution": {
          "iopub.execute_input": "2021-02-25T12:31:49.962062Z",
          "iopub.status.busy": "2021-02-25T12:31:49.961431Z",
          "iopub.status.idle": "2021-02-25T12:31:59.732664Z",
          "shell.execute_reply": "2021-02-25T12:31:59.732005Z"
        },
        "papermill": {
          "duration": 9.834493,
          "end_time": "2021-02-25T12:31:59.732809",
          "exception": false,
          "start_time": "2021-02-25T12:31:49.898316",
          "status": "completed"
        },
        "tags": [],
        "id": "eCeoynuctTsn",
        "outputId": "c80660a3-a2c1-4bde-da2d-5356bf265ea3"
      },
      "source": [
        "rf_tuned.fit(X_train_punct_len, y_train)\n",
        "pd.Series(rf_tuned.feature_importances_, \n",
        "          index=X_train_punct_len.columns).sort_values(ascending=False)"
      ],
      "execution_count": null,
      "outputs": [
        {
          "output_type": "execute_result",
          "data": {
            "text/plain": [
              "length_title       0.250700\n",
              "num_words_title    0.180754\n",
              "title_ratio        0.108480\n",
              "ques_text          0.100785\n",
              "length_text        0.098615\n",
              "peri_text          0.062601\n",
              "comm_text          0.062418\n",
              "excl_text          0.050390\n",
              "peri_title         0.038489\n",
              "excl_title         0.026186\n",
              "comm_title         0.013181\n",
              "ques_title         0.007400\n",
              "dtype: float64"
            ]
          },
          "metadata": {
            "tags": []
          },
          "execution_count": 33
        }
      ]
    },
    {
      "cell_type": "markdown",
      "metadata": {
        "papermill": {
          "duration": 0.055737,
          "end_time": "2021-02-25T12:31:59.844793",
          "exception": false,
          "start_time": "2021-02-25T12:31:59.789056",
          "status": "completed"
        },
        "tags": [],
        "id": "dz0LfyB0tTsn"
      },
      "source": [
        "## Final Prediction on Test"
      ]
    },
    {
      "cell_type": "code",
      "metadata": {
        "execution": {
          "iopub.execute_input": "2021-02-25T12:31:59.965995Z",
          "iopub.status.busy": "2021-02-25T12:31:59.965345Z",
          "iopub.status.idle": "2021-02-25T12:32:00.347005Z",
          "shell.execute_reply": "2021-02-25T12:32:00.345358Z"
        },
        "papermill": {
          "duration": 0.445186,
          "end_time": "2021-02-25T12:32:00.347274",
          "exception": false,
          "start_time": "2021-02-25T12:31:59.902088",
          "status": "completed"
        },
        "tags": [],
        "id": "eDIzd8v2tTsn",
        "outputId": "6b853e2e-4798-466b-b1e8-f319d820bb0f"
      },
      "source": [
        "preds_test = rf_tuned.predict(X_test_punct_len) \n",
        "f1 = f1_score(y_true=y_test, y_pred=preds_test)\n",
        "acc = accuracy_score(y_true=y_test, y_pred=preds_test)\n",
        "print(f'f1: {f1}\\nacc: {acc}')"
      ],
      "execution_count": null,
      "outputs": [
        {
          "output_type": "stream",
          "text": [
            "f1: 0.9328866313628011\n",
            "acc: 0.9308463251670379\n"
          ],
          "name": "stdout"
        }
      ]
    },
    {
      "cell_type": "markdown",
      "metadata": {
        "papermill": {
          "duration": 0.056192,
          "end_time": "2021-02-25T12:32:00.461633",
          "exception": false,
          "start_time": "2021-02-25T12:32:00.405441",
          "status": "completed"
        },
        "tags": [],
        "id": "qFaTlKWatTso"
      },
      "source": [
        "`f1-score` of about 93%! Our model is already very powerful, even though it solely focuses on punctuation and text length. Moreover, it performs even better than on train!"
      ]
    },
    {
      "cell_type": "markdown",
      "metadata": {
        "papermill": {
          "duration": 0.056491,
          "end_time": "2021-02-25T12:32:00.574705",
          "exception": false,
          "start_time": "2021-02-25T12:32:00.518214",
          "status": "completed"
        },
        "tags": [],
        "id": "EySohj7QtTsp"
      },
      "source": [
        "# How well can we predict on subsets of the Features?"
      ]
    },
    {
      "cell_type": "code",
      "metadata": {
        "execution": {
          "iopub.execute_input": "2021-02-25T12:32:00.697229Z",
          "iopub.status.busy": "2021-02-25T12:32:00.696137Z",
          "iopub.status.idle": "2021-02-25T12:33:45.869482Z",
          "shell.execute_reply": "2021-02-25T12:33:45.869990Z"
        },
        "papermill": {
          "duration": 105.238925,
          "end_time": "2021-02-25T12:33:45.870162",
          "exception": false,
          "start_time": "2021-02-25T12:32:00.631237",
          "status": "completed"
        },
        "tags": [],
        "id": "ExvKSFidtTsp",
        "outputId": "46700722-493e-4ab0-f0b3-e3cb3ec47b6a"
      },
      "source": [
        "forest = RandomForestClassifier(random_state=42)\n",
        "\n",
        "best_column = 'all'\n",
        "best_score = 0\n",
        "for column in X_train_punct_len.columns:\n",
        "    forest.fit(X_train_punct_len[column].values.reshape((-1,1)), y_train)\n",
        "    preds = cross_val_predict(forest, X_train_punct_len[column].values.reshape((-1,1)), y_train, cv=5)\n",
        "    f1 = f1_score(y_true=y_train, y_pred=preds)\n",
        "    \n",
        "    if(f1>best_score):\n",
        "        best_score = f1\n",
        "        best_column = column\n",
        "\n",
        "print(f'A default RandomForest already obtains an f1-score of {f1} on validation data when trained solely on the column {column}')"
      ],
      "execution_count": null,
      "outputs": [
        {
          "output_type": "stream",
          "text": [
            "A default RandomForest already obtains an f1-score of 0.6732986660637575 on validation data when trained solely on the column title_ratio\n"
          ],
          "name": "stdout"
        }
      ]
    },
    {
      "cell_type": "code",
      "metadata": {
        "execution": {
          "iopub.execute_input": "2021-02-25T12:33:46.007509Z",
          "iopub.status.busy": "2021-02-25T12:33:46.006763Z",
          "iopub.status.idle": "2021-02-25T12:34:28.023937Z",
          "shell.execute_reply": "2021-02-25T12:34:28.024484Z"
        },
        "papermill": {
          "duration": 42.084003,
          "end_time": "2021-02-25T12:34:28.024662",
          "exception": false,
          "start_time": "2021-02-25T12:33:45.940659",
          "status": "completed"
        },
        "tags": [],
        "id": "UZfeoWBOtTsp",
        "outputId": "3f47c11f-a881-41e4-dd41-d337403c18fe"
      },
      "source": [
        "forest = RandomForestClassifier(random_state=42)\n",
        "punctuation = ['peri_title', 'comm_title', 'ques_title', 'excl_title', 'peri_text', 'comm_text', 'ques_text', 'excl_text']\n",
        "lenght = ['length_title', 'length_text','num_words_title', 'title_ratio']\n",
        "\n",
        "\n",
        "forest.fit(X_train_punct_len[punctuation], y_train)\n",
        "preds = cross_val_predict(forest, X_train_punct_len[punctuation], y_train, cv=5)\n",
        "f1 = f1_score(y_true=y_train, y_pred=preds)\n",
        "print(f'A default RandomForest already obtains an f1-score of {f1} when trained solely on punctuation-based Features')\n",
        "print('The Feature Inportances in that approach are:')\n",
        "print(pd.Series(forest.feature_importances_, \n",
        "          index=punctuation).sort_values(ascending=False))\n",
        "\n",
        "forest.fit(X_train_punct_len[lenght], y_train)\n",
        "preds = cross_val_predict(forest, X_train_punct_len[lenght], y_train, cv=5)\n",
        "f1 = f1_score(y_true=y_train, y_pred=preds)\n",
        "print(f'A default RandomForest already obtains an f1-score of {f1} when trained solely on length-based Features')\n",
        "print('The Feature Importances in that approach are:')\n",
        "print(pd.Series(forest.feature_importances_, \n",
        "          index=lenght).sort_values(ascending=False))"
      ],
      "execution_count": null,
      "outputs": [
        {
          "output_type": "stream",
          "text": [
            "A default RandomForest already obtains an f1-score of 0.7751509817607962 when trained solely on punctuation-based Features\n",
            "The Feature Inportances in that approach are:\n",
            "ques_text     0.273933\n",
            "comm_text     0.208727\n",
            "peri_text     0.193682\n",
            "excl_text     0.134225\n",
            "peri_title    0.080427\n",
            "excl_title    0.070758\n",
            "ques_title    0.024456\n",
            "comm_title    0.013792\n",
            "dtype: float64\n",
            "A default RandomForest already obtains an f1-score of 0.8616304284123543 when trained solely on length-based Features\n",
            "The Feature Importances in that approach are:\n",
            "length_title       0.414075\n",
            "title_ratio        0.210917\n",
            "length_text        0.198954\n",
            "num_words_title    0.176054\n",
            "dtype: float64\n"
          ],
          "name": "stdout"
        }
      ]
    },
    {
      "cell_type": "markdown",
      "metadata": {
        "papermill": {
          "duration": 0.057012,
          "end_time": "2021-02-25T12:34:28.141435",
          "exception": false,
          "start_time": "2021-02-25T12:34:28.084423",
          "status": "completed"
        },
        "tags": [],
        "id": "-oAvV7WctTsr"
      },
      "source": [
        "As we saw, even some basic feature engineering might reveal powerful features for our machine learning models. I am pretty sure that adding `Word Embeddings` will improve the performance by a lot.\n",
        "\n",
        "Thank you for reading this notebook!"
      ]
    }
  ]
}